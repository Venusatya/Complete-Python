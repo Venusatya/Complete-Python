{
  "nbformat": 4,
  "nbformat_minor": 0,
  "metadata": {
    "colab": {
      "provenance": []
    },
    "kernelspec": {
      "name": "python3",
      "display_name": "Python 3"
    },
    "language_info": {
      "name": "python"
    }
  },
  "cells": [
    {
      "cell_type": "markdown",
      "source": [
        "**Data Structures**\n",
        "\n",
        "**List**"
      ],
      "metadata": {
        "id": "5SC9uMp37f82"
      }
    },
    {
      "cell_type": "markdown",
      "source": [
        "Python Lists are just like the arrays, declared in other languages which is an ordered collection of data. It is very flexible as the items in a list do not need to be of the same type. Here are the key characteristics of lists:\n",
        "\n",
        "- Lists in Python maintain the order of elements as they are inserted. The order in which elements are added is the same order in which they are stored.\n",
        "- Lists are mutable, meaning you can modify their elements after the list is created. You can change, add, or remove elements from a list.\n",
        "- Lists can contain elements of different data types.\n",
        "- Lists in Python are dynamic, meaning they can grow or shrink in size as needed.\n",
        "- Lists support indexing, allowing you to access individual elements using their position (index) in the list.\n",
        "- Lists are iterable, meaning you can loop through each element using a for loop."
      ],
      "metadata": {
        "id": "FjNOTgXHCGGX"
      }
    },
    {
      "cell_type": "markdown",
      "source": [
        "**Creating Lists**\n",
        "\n",
        "In Python, you can create a list by enclosing a sequence of elements in square brackets (**[]**), separated by commas. or use **list()** to create a new list"
      ],
      "metadata": {
        "id": "T20hBnSLCi-1"
      }
    },
    {
      "cell_type": "code",
      "source": [
        "# creating a student_info list to store the information about the student roll no,name, course and marks scored\n",
        "Student_info = [21, 'Sam', \"IT\", 30, 35, 50]\n",
        "print(Student_info)"
      ],
      "metadata": {
        "colab": {
          "base_uri": "https://localhost:8080/"
        },
        "id": "zl3igMk8C18y",
        "outputId": "e9671dba-ad92-47c1-9b2a-bc7d057589f2"
      },
      "execution_count": 2,
      "outputs": [
        {
          "output_type": "stream",
          "name": "stdout",
          "text": [
            "[21, 'Sam', 'IT', 30, 35, 50]\n"
          ]
        }
      ]
    },
    {
      "cell_type": "markdown",
      "source": [
        "**Accessing elements**\n",
        "\n",
        "List elements can be accessed using their index, starting from 0 for the first element. Negative indices can also be used to access elements from the end of the list."
      ],
      "metadata": {
        "id": "Z_YN_fbxC9V-"
      }
    },
    {
      "cell_type": "code",
      "source": [
        "Student_info = [21, 'Sam', \"IT\", 30, 35, 50, 90]\n",
        "print(\"Student_roll :\", Student_info[0], end=' , ')\n",
        "print(\"Student_name :\", Student_info[1], end=', ')\n",
        "print(\"Student_totalMarks :\", Student_info[-1], end=' ')"
      ],
      "metadata": {
        "colab": {
          "base_uri": "https://localhost:8080/"
        },
        "id": "p4Lma66oDBho",
        "outputId": "46db6db3-f7df-41bd-a571-d7c70a165c51"
      },
      "execution_count": 4,
      "outputs": [
        {
          "output_type": "stream",
          "name": "stdout",
          "text": [
            "Student_roll : 21 , Student_name : Sam, Student_totalMarks : 90 "
          ]
        }
      ]
    },
    {
      "cell_type": "markdown",
      "source": [
        "**Slicing Lists**\n",
        "\n",
        "List slicing allows us to create sub-lists by specifying a range of indices."
      ],
      "metadata": {
        "id": "mijS-TXfDSC5"
      }
    },
    {
      "cell_type": "code",
      "source": [
        "Student_info = [21, 'Sam', \"IT\", 30, 35, 50, 90]\n",
        "Student_info[1:5]"
      ],
      "metadata": {
        "colab": {
          "base_uri": "https://localhost:8080/"
        },
        "id": "6yFtQ8LCDvAq",
        "outputId": "73e8f8b7-298b-40a7-b5b1-56db8b656612"
      },
      "execution_count": 5,
      "outputs": [
        {
          "output_type": "execute_result",
          "data": {
            "text/plain": [
              "['Sam', 'IT', 30, 35]"
            ]
          },
          "metadata": {},
          "execution_count": 5
        }
      ]
    },
    {
      "cell_type": "markdown",
      "source": [
        "**Note:** The end index will be excluded"
      ],
      "metadata": {
        "id": "fkqp8lT7D3st"
      }
    },
    {
      "cell_type": "markdown",
      "source": [
        "**Modifying Lists**\n",
        "\n",
        "**Changing elements**"
      ],
      "metadata": {
        "id": "Rj9eH_VPDc2y"
      }
    },
    {
      "cell_type": "code",
      "source": [
        "Student_info = [21, \"SAM\", \"IT\", 20, 30, 50, 120]\n",
        "Student_info[2] = \"ME\"\n",
        "print(Student_info)\n"
      ],
      "metadata": {
        "colab": {
          "base_uri": "https://localhost:8080/"
        },
        "id": "zksYEyJtDYrU",
        "outputId": "0f3eb1f0-5554-4acd-9b27-4edb9bc17397"
      },
      "execution_count": 6,
      "outputs": [
        {
          "output_type": "stream",
          "name": "stdout",
          "text": [
            "[21, 'SAM', 'ME', 20, 30, 50, 120]\n"
          ]
        }
      ]
    },
    {
      "cell_type": "markdown",
      "source": [
        "**Adding elements**\n",
        "\n",
        "To add elements at last we can use **append()**"
      ],
      "metadata": {
        "id": "0M9hhRajEHLM"
      }
    },
    {
      "cell_type": "code",
      "source": [
        "Student_info = [21, \"Sam\", \"IT\", 20, 30]\n",
        "Student_info.append(50)\n",
        "print(Student_info)"
      ],
      "metadata": {
        "colab": {
          "base_uri": "https://localhost:8080/"
        },
        "id": "yttLCQbREQfj",
        "outputId": "6f05c5fa-3076-46d7-fa1c-99433392e969"
      },
      "execution_count": 7,
      "outputs": [
        {
          "output_type": "stream",
          "name": "stdout",
          "text": [
            "[21, 'Sam', 'IT', 20, 30, 50]\n"
          ]
        }
      ]
    },
    {
      "cell_type": "markdown",
      "source": [
        "**Removing elements**"
      ],
      "metadata": {
        "id": "CpLH10LSEPfq"
      }
    },
    {
      "cell_type": "code",
      "source": [
        "Student_info = [21, 'Sam', 'IT', 20, 30, 50]\n",
        "Student_info.remove(50)\n",
        "print(Student_info)"
      ],
      "metadata": {
        "colab": {
          "base_uri": "https://localhost:8080/"
        },
        "id": "MMVx8cnrEcIX",
        "outputId": "15973171-4f3b-4e5f-9ba4-74754cb10159"
      },
      "execution_count": 8,
      "outputs": [
        {
          "output_type": "stream",
          "name": "stdout",
          "text": [
            "[21, 'Sam', 'IT', 20, 30]\n"
          ]
        }
      ]
    },
    {
      "cell_type": "markdown",
      "source": [
        "**List Operations:**\n",
        "\n",
        "**a. Concatenation:**\n",
        "\n",
        "Lists can be concatenated using the + operator."
      ],
      "metadata": {
        "id": "G8_xpQYzEk-v"
      }
    },
    {
      "cell_type": "code",
      "source": [
        "Student_info = [21, \"Sam\", \"IT\", 20, 30, 50, 90]\n",
        "Student2_info = [22, \"Tom\", \"ME\", 40, 40, 50, 110]\n",
        "print(Student_info + Student2_info)\n"
      ],
      "metadata": {
        "colab": {
          "base_uri": "https://localhost:8080/"
        },
        "id": "px9l7TQMEuWs",
        "outputId": "9096fed1-3c23-4db8-c09a-343ad7bca679"
      },
      "execution_count": 9,
      "outputs": [
        {
          "output_type": "stream",
          "name": "stdout",
          "text": [
            "[21, 'Sam', 'IT', 20, 30, 50, 90, 22, 'Tom', 'ME', 40, 40, 50, 110]\n"
          ]
        }
      ]
    },
    {
      "cell_type": "markdown",
      "source": [
        "**b. Repetition:**\n",
        "\n",
        "Lists can be repeated using the * operator."
      ],
      "metadata": {
        "id": "-HRdVPRrE11h"
      }
    },
    {
      "cell_type": "code",
      "source": [
        "Student_info = [21, \"Sam\", \"IT\", 20, 30, 50, 90]\n",
        "print(Student_info * 2)"
      ],
      "metadata": {
        "colab": {
          "base_uri": "https://localhost:8080/"
        },
        "id": "2DuUp0ohE7Si",
        "outputId": "b91699fb-745f-490c-dafa-39ff8e0ad8b4"
      },
      "execution_count": 10,
      "outputs": [
        {
          "output_type": "stream",
          "name": "stdout",
          "text": [
            "[21, 'Sam', 'IT', 20, 30, 50, 90, 21, 'Sam', 'IT', 20, 30, 50, 90]\n"
          ]
        }
      ]
    },
    {
      "cell_type": "markdown",
      "source": [
        "**Common List Methods:**\n",
        "\n",
        "**a. len():**\n",
        "\n",
        "Returns the length (number of elements) of a list.\n",
        "\n",
        "**b. sort():**\n",
        "\n",
        "Sorts the elements of a list in ascending order. If you want to sort a list in descending order, you can use the reverse parameter of the sort() method. Setting **reverse=True** will sort the list in descending order.\n",
        "\n",
        "**c. reverse():**\n",
        "\n",
        "Reverses the elements of a list."
      ],
      "metadata": {
        "id": "eyj9fEtkFBpZ"
      }
    },
    {
      "cell_type": "code",
      "source": [
        "List = [2.0, 29.1, 5.6, 11.5, 8.5]\n",
        "print(len(List))\n",
        "List.sort()\n",
        "print(List)\n",
        "List.reverse()\n",
        "print(List)\n"
      ],
      "metadata": {
        "colab": {
          "base_uri": "https://localhost:8080/"
        },
        "id": "mFLORhyRFP_R",
        "outputId": "75f404b0-e9fb-4527-d06d-df7021d9966c"
      },
      "execution_count": 11,
      "outputs": [
        {
          "output_type": "stream",
          "name": "stdout",
          "text": [
            "5\n",
            "[2.0, 5.6, 8.5, 11.5, 29.1]\n",
            "[29.1, 11.5, 8.5, 5.6, 2.0]\n"
          ]
        }
      ]
    },
    {
      "cell_type": "markdown",
      "source": [
        "**Multidimensional List**"
      ],
      "metadata": {
        "id": "pp14pOj_Fe0c"
      }
    },
    {
      "cell_type": "markdown",
      "source": [
        "A multidimensional list is basically a list of lists in python, each inner list represents the row or column inside the list. There can be more than one dimensions to a list.\n",
        "\n",
        "**Accessing elements of list**\n",
        "\n",
        "Let's take a example of a list L1= [ [1, 2, 3, 5], [4, 6, 7, 9], [8, 10, 11, 13] ]\n",
        "\n",
        "Accessing elements in a multidimensional list involves using double indexing. The first index selects the row, and the second index selects the element within that row (or column)."
      ],
      "metadata": {
        "id": "DTJvg_llFxMt"
      }
    },
    {
      "cell_type": "code",
      "source": [
        "List1= [ [1, 2, 3, 5], [4, 6, 7, 9], [8, 10, 11, 13] ]\n",
        "#Accesing the rows of the list\n",
        "for i in List1:\n",
        "  print(i, end = ' -- ')\n",
        "\n",
        "#Accessing each element of a 2D-list\n",
        "print(\"\\n\")\n",
        "for i in range(len(List1)):\n",
        "  for j in range(len(List1[i])):\n",
        "                 print(List1[i][j], end=\" , \")"
      ],
      "metadata": {
        "colab": {
          "base_uri": "https://localhost:8080/"
        },
        "id": "61bf2IF1F3gv",
        "outputId": "5ffd0c7d-eea9-4e09-c35a-741d8a2cf51b"
      },
      "execution_count": 12,
      "outputs": [
        {
          "output_type": "stream",
          "name": "stdout",
          "text": [
            "[1, 2, 3, 5] -- [4, 6, 7, 9] -- [8, 10, 11, 13] -- \n",
            "\n",
            "1 , 2 , 3 , 5 , 4 , 6 , 7 , 9 , 8 , 10 , 11 , 13 , "
          ]
        }
      ]
    },
    {
      "cell_type": "markdown",
      "source": [
        "**Methods in multidimensional list:**\n",
        "\n",
        "**Append list in a multidimensional list:**\n",
        "\n",
        "Adds an element at the end of the list."
      ],
      "metadata": {
        "id": "psSomcvMF--W"
      }
    },
    {
      "cell_type": "code",
      "source": [
        "List1 = [[2, 4, 6, 8, 10], [3, 6, 9, 12, 15], [4, 8, 12, 16, 20]]\n",
        "List1.append([5, 10, 15, 20, 25])\n",
        "print(List1)"
      ],
      "metadata": {
        "colab": {
          "base_uri": "https://localhost:8080/"
        },
        "id": "7FWamDWfGIU3",
        "outputId": "80c66fb4-a1df-4717-9249-e1b80cfc1849"
      },
      "execution_count": 13,
      "outputs": [
        {
          "output_type": "stream",
          "name": "stdout",
          "text": [
            "[[2, 4, 6, 8, 10], [3, 6, 9, 12, 15], [4, 8, 12, 16, 20], [5, 10, 15, 20, 25]]\n"
          ]
        }
      ]
    },
    {
      "cell_type": "markdown",
      "source": [
        "**Extend in existing list:**\n",
        "\n",
        "Add the elements of a list (or any iterable), to the end of the current list using extend() method."
      ],
      "metadata": {
        "id": "3DEpReSQGLpU"
      }
    },
    {
      "cell_type": "code",
      "source": [
        "List = [[2, 4, 6, 8, 10], [3, 6, 9, 12, 15], [4, 8, 12, 16, 20]]\n",
        "List[0].extend([12, 14, 16, 18])\n",
        "print(List)"
      ],
      "metadata": {
        "colab": {
          "base_uri": "https://localhost:8080/"
        },
        "id": "909zf1BLGQO2",
        "outputId": "19679c3d-4783-4787-9d54-29485665adff"
      },
      "execution_count": 14,
      "outputs": [
        {
          "output_type": "stream",
          "name": "stdout",
          "text": [
            "[[2, 4, 6, 8, 10, 12, 14, 16, 18], [3, 6, 9, 12, 15], [4, 8, 12, 16, 20]]\n"
          ]
        }
      ]
    },
    {
      "cell_type": "markdown",
      "source": [
        "**Reverse a multidimensional list:**\n",
        "\n",
        "Reverse the order of the given list by using reverse() method."
      ],
      "metadata": {
        "id": "34eF8AtaGY04"
      }
    },
    {
      "cell_type": "code",
      "source": [
        "List = [[2, 4, 6, 8, 10], [3, 6, 9, 12, 15], [4, 8, 12, 16, 20]]\n",
        "List[0].reverse()\n",
        "print(List)"
      ],
      "metadata": {
        "colab": {
          "base_uri": "https://localhost:8080/"
        },
        "id": "X1E55Wb5GTf4",
        "outputId": "4e3991ba-ef3b-4d87-b40c-a0cec185abe8"
      },
      "execution_count": 15,
      "outputs": [
        {
          "output_type": "stream",
          "name": "stdout",
          "text": [
            "[[10, 8, 6, 4, 2], [3, 6, 9, 12, 15], [4, 8, 12, 16, 20]]\n"
          ]
        }
      ]
    },
    {
      "cell_type": "markdown",
      "source": [
        "**Flattening a Multidimensional List:**\n",
        "\n",
        "You can flatten a multidimensional list into a 1D list using list comprehension:"
      ],
      "metadata": {
        "id": "ieu0UFJxGfkP"
      }
    },
    {
      "cell_type": "code",
      "source": [
        "matrix = [\n",
        "    [2, 4, 8],\n",
        "    [4, 9, 6, 5],\n",
        "    [6, 8, 9]\n",
        "]\n",
        "flattened_list = [element for row in matrix for element in row]\n",
        "print(flattened_list)\n"
      ],
      "metadata": {
        "colab": {
          "base_uri": "https://localhost:8080/"
        },
        "id": "EpMpy3IdGjbn",
        "outputId": "466acd77-1010-486e-dae8-fda2ea1dcb1a"
      },
      "execution_count": 16,
      "outputs": [
        {
          "output_type": "stream",
          "name": "stdout",
          "text": [
            "[2, 4, 8, 4, 9, 6, 5, 6, 8, 9]\n"
          ]
        }
      ]
    },
    {
      "cell_type": "markdown",
      "source": [
        "**Searching in a multidimensional list:**\n",
        "\n",
        "You can the position of an element inside a multidimensional list"
      ],
      "metadata": {
        "id": "XCoiv7mdGmL-"
      }
    },
    {
      "cell_type": "code",
      "source": [
        "matrix = [\n",
        "    [1, 8 , 3],\n",
        "    [7, 5, 6],\n",
        "]\n",
        "element = 5\n",
        "position = [(i, row.index(element)) for i, row in enumerate(matrix) if element in row]\n",
        "print(position)"
      ],
      "metadata": {
        "colab": {
          "base_uri": "https://localhost:8080/"
        },
        "id": "7QAxrRpXGtuP",
        "outputId": "424f6ce0-e82e-48af-ebf7-309752eb3f87"
      },
      "execution_count": 17,
      "outputs": [
        {
          "output_type": "stream",
          "name": "stdout",
          "text": [
            "[(1, 1)]\n"
          ]
        }
      ]
    },
    {
      "cell_type": "markdown",
      "source": [
        "**List-Comprehensions**\n",
        "\n",
        "List comprehensions provide a concise way to create lists. They offer a compact syntax for generating lists based on existing iterables, such as lists, strings, or ranges."
      ],
      "metadata": {
        "id": "QWvM1dB-GvZv"
      }
    },
    {
      "cell_type": "markdown",
      "source": [
        "**Basic Syntax:**\n",
        "\n",
        "The basic syntax of a list comprehension consists of an expression followed by a for clause, all enclosed in square brackets []."
      ],
      "metadata": {
        "id": "_n9lhN3dHF8v"
      }
    },
    {
      "cell_type": "code",
      "source": [
        "squares = [x**2 for x in range(5)]\n",
        "print(squares)"
      ],
      "metadata": {
        "colab": {
          "base_uri": "https://localhost:8080/"
        },
        "id": "mT4Grjk1HDM9",
        "outputId": "e32ab24e-3944-4a1b-f801-e9623e5b6d60"
      },
      "execution_count": 18,
      "outputs": [
        {
          "output_type": "stream",
          "name": "stdout",
          "text": [
            "[0, 1, 4, 9, 16]\n"
          ]
        }
      ]
    },
    {
      "cell_type": "markdown",
      "source": [
        "**Condition in List Comprehension:**\n",
        "\n",
        "You can include an optional if clause to filter elements based on a condition."
      ],
      "metadata": {
        "id": "Z5FRr7-JHLAL"
      }
    },
    {
      "cell_type": "code",
      "source": [
        "even_numbers = [x for x in range(10) if x % 2 == 0]\n",
        "print(even_numbers)"
      ],
      "metadata": {
        "colab": {
          "base_uri": "https://localhost:8080/"
        },
        "id": "fP2IjsjtHQ_R",
        "outputId": "2b147940-de5e-4ac1-9775-dc584f8249e1"
      },
      "execution_count": 19,
      "outputs": [
        {
          "output_type": "stream",
          "name": "stdout",
          "text": [
            "[0, 2, 4, 6, 8]\n"
          ]
        }
      ]
    },
    {
      "cell_type": "markdown",
      "source": [
        "**Nested List Comprehensions:**\n",
        "\n",
        "List comprehensions can be nested to create more complex structures."
      ],
      "metadata": {
        "id": "jdRYGeLxHTnJ"
      }
    },
    {
      "cell_type": "code",
      "source": [
        "matrix = [[i * j for j in range(3)] for i in range(4)]\n",
        "print(matrix)"
      ],
      "metadata": {
        "colab": {
          "base_uri": "https://localhost:8080/"
        },
        "id": "wPcvfaWLHYfP",
        "outputId": "c3ee926c-89d1-485a-b3ff-262846dfcc21"
      },
      "execution_count": 20,
      "outputs": [
        {
          "output_type": "stream",
          "name": "stdout",
          "text": [
            "[[0, 0, 0], [0, 1, 2], [0, 2, 4], [0, 3, 6]]\n"
          ]
        }
      ]
    },
    {
      "cell_type": "markdown",
      "source": [
        "**Using Functions in List Comprehension:**\n",
        "\n",
        "You can apply functions to elements within a list comprehension."
      ],
      "metadata": {
        "id": "pRsHC438Hbie"
      }
    },
    {
      "cell_type": "code",
      "source": [
        "letters = ['a', 'b', 'c']\n",
        "uppercase_letters = [letter.upper() for letter in letters]\n",
        "print(uppercase_letters)"
      ],
      "metadata": {
        "colab": {
          "base_uri": "https://localhost:8080/"
        },
        "id": "AzM4Lgz8Hfs2",
        "outputId": "108b85f1-cc3f-498d-8104-17b04b31ca6a"
      },
      "execution_count": 21,
      "outputs": [
        {
          "output_type": "stream",
          "name": "stdout",
          "text": [
            "['A', 'B', 'C']\n"
          ]
        }
      ]
    },
    {
      "cell_type": "markdown",
      "source": [
        "**Applications of List Comprehensions:**\n",
        "\n",
        "1. **Filtering:** Create a sub-list based on a condition.\n",
        "\n",
        "2. **Transformation:** Apply a transformation to each element in a list.\n",
        "\n",
        "3. **Matrix Operations:** Generate matrices and perform operations.\n",
        "\n",
        "4. **String Manipulation:** Create lists of characters or modify strings."
      ],
      "metadata": {
        "id": "kaxTGqZvHncq"
      }
    },
    {
      "cell_type": "markdown",
      "source": [
        "**Properties of Tuples**\n",
        "\n",
        "- Tuples are immutable which means once a tuple is created, you cannot modify its elements. You can't add, remove, or change elements in a tuple.\n",
        "- Tuples are ordered, meaning the position of an element in a tuple is preserved.\n",
        "- Tuples can contain elements of different data types. You can have integers, strings, floats, and other data types within the same tuple."
      ],
      "metadata": {
        "id": "q3_T-22xHv_Q"
      }
    },
    {
      "cell_type": "markdown",
      "source": [
        "**Access elements of tuples**\n",
        "\n",
        "Tuples in Python provide two ways by which we can access the elements of a tuple, using a positive index and using a negative index."
      ],
      "metadata": {
        "id": "kaKEnVv1IN8H"
      }
    },
    {
      "cell_type": "code",
      "source": [
        "my_tuple = (2, 4, \"Python\", 5.0, -3)\n",
        "ele_1 = my_tuple[-2]\n",
        "ele_2 = my_tuple[2]\n",
        "print (ele_1, ele_2)"
      ],
      "metadata": {
        "colab": {
          "base_uri": "https://localhost:8080/"
        },
        "id": "x56hiA14ILM6",
        "outputId": "63a69eed-f861-46a2-f2a0-d764c42360ea"
      },
      "execution_count": 22,
      "outputs": [
        {
          "output_type": "stream",
          "name": "stdout",
          "text": [
            "5.0 Python\n"
          ]
        }
      ]
    },
    {
      "cell_type": "markdown",
      "source": [
        "**Tuples Method**\n",
        "\n",
        "Tuples have a few built-in methods. However, due to their immutable nature, the number of methods is limited compared to lists.\n",
        "\n",
        "**1. count(element):**\n",
        "\n",
        "The count method returns the number of occurrences of a specified element in the tuple.\n",
        "\n",
        "**2. index(element) :**\n",
        "\n",
        "The index method returns the index of the first occurrence of a specified element in the tuple."
      ],
      "metadata": {
        "id": "OSKgaOGgIT3y"
      }
    },
    {
      "cell_type": "code",
      "source": [
        "my_tuple = (1, 3, \"Datascience\", 4.0, \"python\", 1)\n",
        "index= my_tuple.index('python')\n",
        "count = my_tuple.count(1)\n",
        "print (f\"index of python: { index }, count of 1 : {count}\")"
      ],
      "metadata": {
        "colab": {
          "base_uri": "https://localhost:8080/"
        },
        "id": "rc9iqTqlIfbZ",
        "outputId": "8c0bb675-cca8-4a30-9f1e-17880d3be196"
      },
      "execution_count": 23,
      "outputs": [
        {
          "output_type": "stream",
          "name": "stdout",
          "text": [
            "index of python: 4, count of 1 : 2\n"
          ]
        }
      ]
    },
    {
      "cell_type": "markdown",
      "source": [
        "**3. Tuple Packing and Unpacking:**\n",
        "\n",
        "Tuple packing is the process of placing multiple values in a tuple, while tuple unpacking is the process of extracting values from a tuple."
      ],
      "metadata": {
        "id": "0XFPMYZhImx7"
      }
    },
    {
      "cell_type": "code",
      "source": [
        "packed_tuple = 1, 2, 'three'\n",
        "\n",
        "# Tuple unpacking\n",
        "a, b, c = packed_tuple\n",
        "print (f\" packed Tuple : {packed_tuple}, unpacked tuple a: {a}, b: {b}, c : {c}\")"
      ],
      "metadata": {
        "colab": {
          "base_uri": "https://localhost:8080/"
        },
        "id": "bgzVWx9iItrj",
        "outputId": "315a5bec-83e1-4f76-fbcb-134d482b4a11"
      },
      "execution_count": 24,
      "outputs": [
        {
          "output_type": "stream",
          "name": "stdout",
          "text": [
            " packed Tuple : (1, 2, 'three'), unpacked tuple a: 1, b: 2, c : three\n"
          ]
        }
      ]
    },
    {
      "cell_type": "markdown",
      "source": [
        "**Dictionary**\n",
        "\n",
        "A dictionary in Python is a collection of key values, used to store data values like a map, which, unlike other data types holds Key-value only a single value as an element.\n",
        "\n",
        "**Dictionary Syntax**\n",
        "\n",
        "dict_var = {key1 : value1, key2 : value2, …..}\n",
        "\n",
        "**Properties of dictionary**\n",
        "\n",
        "- Dictionaries in Python are unordered collections of items. Unlike lists, the order in which items are added to a dictionary is not preserved.\n",
        "- Dictionaries are mutable, meaning you can modify their contents by adding, removing, or updating key-value pairs.\n",
        "- Keys in a dictionary must be immutable, meaning they cannot be changed after creation. Values in a dictionary, on the other hand, can be of any data type and are mutable.\n",
        "- Retrieving a value from a dictionary is highly efficient, typically taking constant time on average.\n",
        "\n",
        "**Creating a dictionary**\n",
        "\n",
        "There are different ways to create a dictionary. You can create a dictionary in Python using curly braces {} and specifying key-value pairs separated by colons ':' . Dictionary can also be created by the built-in function dict(). An empty dictionary can be created by just placing to curly braces{}."
      ],
      "metadata": {
        "id": "uAd1hV75Iwsu"
      }
    },
    {
      "cell_type": "code",
      "source": [
        "Dict = {}\n",
        "print(\"Empty Dictionary: \")\n",
        "print(Dict)\n",
        "\n",
        "Dict = dict({1: 'Data', 2: 'Science', 3: 'Python'})\n",
        "print(\"Dictionary with the use of dict() method: \")\n",
        "print(Dict)\n",
        "\n",
        "Dict = dict([(1, 'Data'), (2, 'Science')])\n",
        "print(\"Dictionary with each item as a pair: \")\n",
        "print(Dict)"
      ],
      "metadata": {
        "colab": {
          "base_uri": "https://localhost:8080/"
        },
        "id": "6v2HCIatJRL0",
        "outputId": "3dde87a5-cd96-407f-e890-f5d4476c3fcf"
      },
      "execution_count": 25,
      "outputs": [
        {
          "output_type": "stream",
          "name": "stdout",
          "text": [
            "Empty Dictionary: \n",
            "{}\n",
            "Dictionary with the use of dict() method: \n",
            "{1: 'Data', 2: 'Science', 3: 'Python'}\n",
            "Dictionary with each item as a pair: \n",
            "{1: 'Data', 2: 'Science'}\n"
          ]
        }
      ]
    },
    {
      "cell_type": "markdown",
      "source": [
        "**Complexities for Creating a Dictionary**\n",
        "\n",
        "**Time complexity:** O(len(dict))\n",
        "\n",
        "**Space complexity:** O(n)\n",
        "\n",
        "**Accessing values of a dictionary**\n",
        "To access a value in a dictionary, you can use square brackets [] and provide the key. If the key is not present in the dictionary, it will raise a KeyError. To avoid this, you can use the get method."
      ],
      "metadata": {
        "id": "ofC5YZ0yJS3i"
      }
    },
    {
      "cell_type": "code",
      "source": [
        "my_dict = {'name':'Sam', 'age': 24}\n",
        "print(my_dict['name'])\n",
        "print(my_dict['age'])\n",
        "print(my_dict.get('name','Unknown'))\n",
        "print(my_dict.get('city','Unknown'))\n"
      ],
      "metadata": {
        "colab": {
          "base_uri": "https://localhost:8080/"
        },
        "id": "hmUtRC4hJcos",
        "outputId": "0e7ec4af-2476-4eb9-8101-acdfa8093973"
      },
      "execution_count": 26,
      "outputs": [
        {
          "output_type": "stream",
          "name": "stdout",
          "text": [
            "Sam\n",
            "24\n",
            "Sam\n",
            "Unknown\n"
          ]
        }
      ]
    },
    {
      "cell_type": "markdown",
      "source": [
        "**Complexities for Accessing elements in a Dictionary:**\n",
        "\n",
        "**Time complexity:** O(1)\n",
        "\n",
        "**Space complexity:** O(1)\n",
        "\n",
        "**Modifying and adding elements**\n",
        "You can add elements in a dictionary in multiple ways. One value at a time can be added to a Dictionary by defining value along with the key, for instance Dict[Key] = ‘Value’. Updating an existing value in a Dictionary can be done by using the built-in update() method.\n",
        "\n",
        "**Note** - If the key doesn't exist it creates a new key-value pair and if the key already exists in a dictionary it updates it's values with a new value."
      ],
      "metadata": {
        "id": "nqY2J3U7JhuK"
      }
    },
    {
      "cell_type": "code",
      "source": [
        "Dict = {}\n",
        "Dict['name'] = 'Sam'\n",
        "Dict['age'] = 24\n",
        "Dict['city'] = 'Paris'\n",
        "Dict ['city'] = 'Italy'\n",
        "print(\"Dictionary after adding/modifying elements: \")\n",
        "print(Dict)\n",
        "\n",
        "#modifying dict using update function\n",
        "print(\"Dictionary after modifying elements through update:\")\n",
        "Dict.update({'age':26,'city':'USA'})\n",
        "print(Dict)\n"
      ],
      "metadata": {
        "colab": {
          "base_uri": "https://localhost:8080/"
        },
        "id": "2iXw3ljyJrNi",
        "outputId": "56c564f7-f0dc-4ed3-aa95-ae21c4ddde63"
      },
      "execution_count": 27,
      "outputs": [
        {
          "output_type": "stream",
          "name": "stdout",
          "text": [
            "Dictionary after adding/modifying elements: \n",
            "{'name': 'Sam', 'age': 24, 'city': 'Italy'}\n",
            "Dictionary after modifying elements through update:\n",
            "{'name': 'Sam', 'age': 26, 'city': 'USA'}\n"
          ]
        }
      ]
    },
    {
      "cell_type": "markdown",
      "source": [
        "**Complexities for Adding elements in a Dictionary:**\n",
        "\n",
        "**Time complexity:** O(1)/O(n)\n",
        "\n",
        "**Space complexity:** O(1)\n",
        "\n",
        "**Removing elements**\n",
        "\n",
        "To remove a key-value pair from a dictionary, you can use the pop method or use the del keyword."
      ],
      "metadata": {
        "id": "GlTlmRKcJ0gK"
      }
    },
    {
      "cell_type": "code",
      "source": [
        "Dict = {'name':'Sam','age':24, 'gender':'Female'}\n",
        "\n",
        "#removing a key using pop\n",
        "removed_value = Dict.pop('gender')\n",
        "print(removed_value)\n",
        "print(Dict)\n",
        "\n",
        "# Removing a key using del\n",
        "del(Dict['age'])\n",
        "print(Dict)"
      ],
      "metadata": {
        "colab": {
          "base_uri": "https://localhost:8080/"
        },
        "id": "gFiBuC-WJ78w",
        "outputId": "ad9325d7-bec9-4db4-d3b3-612b03cd4f9a"
      },
      "execution_count": 28,
      "outputs": [
        {
          "output_type": "stream",
          "name": "stdout",
          "text": [
            "Female\n",
            "{'name': 'Sam', 'age': 24}\n",
            "{'name': 'Sam'}\n"
          ]
        }
      ]
    },
    {
      "cell_type": "markdown",
      "source": [
        "**Dictionary methods**\n",
        "\n",
        "**dict.clear()** - Remove all the elements from the dictionary\n",
        "\n",
        "**dict.copy()** - Returns a copy of the dictionary\n",
        "\n",
        "**dict.get(key, default = “None”)** - Returns the value of specified key\n",
        "\n",
        "**dict.items()** - Returns a list containing a tuple for each key value pair\n",
        "\n",
        "**dict.keys()** - Returns a list containing dictionary’s keys\n",
        "\n",
        "**dict.update(dict2)** - Updates dictionary with specified key-value pairs\n",
        "\n",
        "**dict.values()** - Returns a list of all the values of dictionary\n",
        "\n",
        "**pop()** - Remove the element with specified key\n",
        "\n",
        "**popItem()** - Removes the last inserted key-value pair\n",
        "\n",
        "**dict.setdefault(key,default= “None”)** - set the key to the default value if the key is not specified in the dictionary\n",
        "\n",
        "**dict.has_key(key)** - returns true if the dictionary contains the specified key.\n",
        "\n",
        "**dict.get(key, default = “None”)** - used to get the value specified for the passed key."
      ],
      "metadata": {
        "id": "WpSbdpelKBJ1"
      }
    },
    {
      "cell_type": "markdown",
      "source": [
        "**Iterating through a dictionary**\n",
        "\n",
        "You can iterate through the keys, values, or key-value pairs of a dictionary using loops:"
      ],
      "metadata": {
        "id": "KJ_Mp_JBKcp8"
      }
    },
    {
      "cell_type": "code",
      "source": [
        "my_dict = {'name':'Sam','age':24, 'gender':'Female'}\n",
        "for key in my_dict:\n",
        "    print(key, end=' ')\n",
        "print('\\n')\n",
        "# Iterating through values\n",
        "for value in my_dict.values():\n",
        "    print(value, end=' ')\n",
        "print('\\n')\n",
        "# Iterating through key-value pairs\n",
        "for key, value in my_dict.items():\n",
        "    print(key, value, end = ' ')\n"
      ],
      "metadata": {
        "id": "Lx_uPURaKZm0"
      },
      "execution_count": null,
      "outputs": []
    },
    {
      "cell_type": "markdown",
      "source": [
        "**Multidimensional Dictionary**"
      ],
      "metadata": {
        "id": "qIaMqrYsKj_Y"
      }
    },
    {
      "cell_type": "markdown",
      "source": [
        "Multidimensional dictionary in Python is a dictionary that contains other dictionaries as values. Each level of nesting represents a different dimension in the data structure.\n",
        "\n",
        "Example of multidimensional dictionary:"
      ],
      "metadata": {
        "id": "qhidRM8kK2FZ"
      }
    },
    {
      "cell_type": "code",
      "source": [
        "multidimensional_dict = {\n",
        "        'first_level': {\n",
        "             'second_level_1': {\n",
        "                     'third_level_1': 1,\n",
        "                     'third_level_2': 2\n",
        "               },\n",
        "        'second_level_2': {\n",
        "                    'third_level_3': 3,\n",
        "                    'third_level_4': 4\n",
        "                   }\n",
        "              },\n",
        " 'another_first_level': {\n",
        "                'second_level_3': {\n",
        "                             'third_level_5': 5,\n",
        "                             'third_level_6': 6\n",
        "                             },\n",
        "              'second_level_4': {\n",
        "                            'third_level_7': 7,\n",
        "                            'third_level_8': 8\n",
        "                    }\n",
        "             }\n",
        "        }"
      ],
      "metadata": {
        "id": "FU3D9P2KK6Y-"
      },
      "execution_count": 30,
      "outputs": []
    },
    {
      "cell_type": "markdown",
      "source": [
        "Here, we have a dictionary where each key maps to another dictionary, creating a hierarchy with multiple levels.\n",
        "\n",
        "**Accessing Values in a Multidimensional Dictionary:**\n",
        "To access a value in a multidimensional dictionary, you can use multiple square brackets for each level:"
      ],
      "metadata": {
        "id": "fAjikty9K8vc"
      }
    },
    {
      "cell_type": "code",
      "source": [
        "#taking above example dictionary\n",
        "value = multidimensional_dict['first_level']['second_level_1']['third_level_2']\n",
        "print(value)"
      ],
      "metadata": {
        "colab": {
          "base_uri": "https://localhost:8080/"
        },
        "id": "YB6I4ZVnLCxd",
        "outputId": "6a0a44da-67c4-49a5-8340-ea6ad77215f1"
      },
      "execution_count": 31,
      "outputs": [
        {
          "output_type": "stream",
          "name": "stdout",
          "text": [
            "2\n"
          ]
        }
      ]
    },
    {
      "cell_type": "markdown",
      "source": [
        "**Adding new level to existing Dictionary**\n",
        "\n",
        "We can add new level in the multidimensional dictionary in the following way:"
      ],
      "metadata": {
        "id": "P8PqHK8HLMoB"
      }
    },
    {
      "cell_type": "code",
      "source": [
        "multidimensional_dict['new_first_level'] = {'new_second_level': {'new_third_level': 100}}\n",
        "print(multidimensional_dict)"
      ],
      "metadata": {
        "colab": {
          "base_uri": "https://localhost:8080/"
        },
        "id": "5qzqvihELRgb",
        "outputId": "d741d85c-ad03-447f-f5c3-f9d889fec437"
      },
      "execution_count": 32,
      "outputs": [
        {
          "output_type": "stream",
          "name": "stdout",
          "text": [
            "{'first_level': {'second_level_1': {'third_level_1': 1, 'third_level_2': 2}, 'second_level_2': {'third_level_3': 3, 'third_level_4': 4}}, 'another_first_level': {'second_level_3': {'third_level_5': 5, 'third_level_6': 6}, 'second_level_4': {'third_level_7': 7, 'third_level_8': 8}}, 'new_first_level': {'new_second_level': {'new_third_level': 100}}}\n"
          ]
        }
      ]
    },
    {
      "cell_type": "markdown",
      "source": [
        "**Iterating over multidimensional Dictionary**\n",
        "\n",
        "To iterate over multidimensional Dictionary you can use nested loops."
      ],
      "metadata": {
        "id": "SVCnAclqLVmT"
      }
    },
    {
      "cell_type": "code",
      "source": [
        "for first_level_key, second_level_dict in multidimensional_dict.items():\n",
        "    print(f\"First Level Key: {first_level_key}\")\n",
        "\n",
        "    for second_level_key, third_level_dict in second_level_dict.items():\n",
        "        print(f\"  Second Level Key: {second_level_key}\")\n",
        "\n",
        "        for third_level_key, value in third_level_dict.items():\n",
        "            print(f\"    Third Level Key: {third_level_key}, Value: {value}\")"
      ],
      "metadata": {
        "colab": {
          "base_uri": "https://localhost:8080/"
        },
        "id": "0WFLsl3hLcs-",
        "outputId": "6dde0e2f-6422-4fa3-967f-56e59a4b7d2e"
      },
      "execution_count": 33,
      "outputs": [
        {
          "output_type": "stream",
          "name": "stdout",
          "text": [
            "First Level Key: first_level\n",
            "  Second Level Key: second_level_1\n",
            "    Third Level Key: third_level_1, Value: 1\n",
            "    Third Level Key: third_level_2, Value: 2\n",
            "  Second Level Key: second_level_2\n",
            "    Third Level Key: third_level_3, Value: 3\n",
            "    Third Level Key: third_level_4, Value: 4\n",
            "First Level Key: another_first_level\n",
            "  Second Level Key: second_level_3\n",
            "    Third Level Key: third_level_5, Value: 5\n",
            "    Third Level Key: third_level_6, Value: 6\n",
            "  Second Level Key: second_level_4\n",
            "    Third Level Key: third_level_7, Value: 7\n",
            "    Third Level Key: third_level_8, Value: 8\n",
            "First Level Key: new_first_level\n",
            "  Second Level Key: new_second_level\n",
            "    Third Level Key: new_third_level, Value: 100\n"
          ]
        }
      ]
    },
    {
      "cell_type": "markdown",
      "source": [
        "**Application of multidimensional Dictionary**\n",
        "\n",
        "**1. Configuration Settings:** Representing configuration settings where each setting category has various parameters.\n",
        "\n",
        "**2. Tree Structures:** Representing hierarchical structures such as organizational charts.\n",
        "\n",
        "**3. Nested Data:** Storing data with a hierarchical relationship, where each level provides more specific information."
      ],
      "metadata": {
        "id": "jsDokeWBLrVa"
      }
    },
    {
      "cell_type": "markdown",
      "source": [
        "**Dictionary Comprehension**"
      ],
      "metadata": {
        "id": "-Oi-eF-BL-vG"
      }
    },
    {
      "cell_type": "markdown",
      "source": [
        "Python dictionary comprehension is a very useful feature if you want to construct dictionaries in one line of code. We can construct a dictionary using a {key : value} mapping directly from an iterable object like, lists.\n",
        "\n",
        "**Syntax :**\n",
        "\n",
        "{key_expression: value_expression for item in iterable}\n",
        "\n",
        "**Condition in dictionary comprehension**\n",
        "\n",
        "We can customize the dictionary comprehension by adding conditions to each of the iterations."
      ],
      "metadata": {
        "id": "3JZraZW3MA7_"
      }
    },
    {
      "cell_type": "code",
      "source": [
        "# Using dictionary comprehension to create a dictionary of squared even numbers\n",
        "numbers = {x: x**2 for x in range(1, 11) if x % 2 == 0}\n",
        "print(numbers)"
      ],
      "metadata": {
        "colab": {
          "base_uri": "https://localhost:8080/"
        },
        "id": "oSCdbDNiMHYu",
        "outputId": "7d5b0a96-3171-4a3b-ec1f-7b9e4cd9a97c"
      },
      "execution_count": 34,
      "outputs": [
        {
          "output_type": "stream",
          "name": "stdout",
          "text": [
            "{2: 4, 4: 16, 6: 36, 8: 64, 10: 100}\n"
          ]
        }
      ]
    },
    {
      "cell_type": "markdown",
      "source": [
        "**Creating a dictionary from Lists**\n",
        "\n",
        "You can also create dictionary from existing lists, making one of the list as keys and the other as values.\n"
      ],
      "metadata": {
        "id": "e-WAWbNiMKwk"
      }
    },
    {
      "cell_type": "code",
      "source": [
        "keys = ['a', 'b', 'c']\n",
        "values = [1, 2, 3]\n",
        "result = {k: v for k, v in zip(keys, values)}\n",
        "print(result)"
      ],
      "metadata": {
        "colab": {
          "base_uri": "https://localhost:8080/"
        },
        "id": "OgeuBmiXMTEE",
        "outputId": "e5ff2e73-0434-41ad-bf1c-1cf40de1c728"
      },
      "execution_count": 35,
      "outputs": [
        {
          "output_type": "stream",
          "name": "stdout",
          "text": [
            "{'a': 1, 'b': 2, 'c': 3}\n"
          ]
        }
      ]
    },
    {
      "cell_type": "markdown",
      "source": [
        "**Nested dictionary comprehension**\n",
        "\n",
        "You can add dictionary comprehensions to dictionary comprehensions themselves to create nested dictionaries."
      ],
      "metadata": {
        "id": "YJmZOLsOMU0z"
      }
    },
    {
      "cell_type": "code",
      "source": [
        "dictionary = {\n",
        "    k1: {k2: k1 * k2 for k2 in range(2, 6)} for k1 in range(5, 7)\n",
        "}\n",
        "print(dictionary)"
      ],
      "metadata": {
        "colab": {
          "base_uri": "https://localhost:8080/"
        },
        "id": "GU3aGXMzMZlA",
        "outputId": "13f05fa9-88c1-4041-c7fe-1502498ee2a9"
      },
      "execution_count": 36,
      "outputs": [
        {
          "output_type": "stream",
          "name": "stdout",
          "text": [
            "{5: {2: 10, 3: 15, 4: 20, 5: 25}, 6: {2: 12, 3: 18, 4: 24, 5: 30}}\n"
          ]
        }
      ]
    },
    {
      "cell_type": "code",
      "source": [
        "dictionary = {\n",
        "    k1: {k2: k1 * k2 for k2 in range(2, 6)} for k1 in range(5, 7)\n",
        "}\n",
        "print(dictionary)"
      ],
      "metadata": {
        "colab": {
          "base_uri": "https://localhost:8080/"
        },
        "id": "004kpOI3MfHH",
        "outputId": "da193784-a4db-45f2-a4e1-89b7ffa07aa4"
      },
      "execution_count": 37,
      "outputs": [
        {
          "output_type": "stream",
          "name": "stdout",
          "text": [
            "{5: {2: 10, 3: 15, 4: 20, 5: 25}, 6: {2: 12, 3: 18, 4: 24, 5: 30}}\n"
          ]
        }
      ]
    },
    {
      "cell_type": "markdown",
      "source": [
        "**Set**"
      ],
      "metadata": {
        "id": "fo06gerOMdEI"
      }
    },
    {
      "cell_type": "markdown",
      "source": [
        "Sets are a fundamental data type in Python that represent an unordered collection of unique elements. They provide a versatile and efficient way to work with data that requires distinct values.\n",
        "\n",
        "**Properties of Set**\n",
        "\n",
        "- Sets do not allow duplicate elements. Each element in a set must be unique.\n",
        "- Sets are unordered, meaning the elements do not have a specific order. Unlike lists, sets do not have indices.\n",
        "- Sets are mutable, meaning you can add or remove elements after the set is created.\n",
        "- Due to their unordered nature, sets do not support indexing. You cannot access elements by index as you would with lists."
      ],
      "metadata": {
        "id": "3EAOtUxxMmDs"
      }
    },
    {
      "cell_type": "markdown",
      "source": [
        "**Common Set methods**\n",
        "\n",
        "**Adding Elements:**\n",
        "1. add(element):\n",
        "Adds a single element to the set.\n",
        "\n",
        "2. update(iterable):\n",
        "Adds multiple elements from an iterable (e.g., list, tuple)."
      ],
      "metadata": {
        "id": "AAp41R3rMyE0"
      }
    },
    {
      "cell_type": "code",
      "source": [
        "Set={1,2,3,4}\n",
        "Set.add(6)\n",
        "Set.update([4,5,6])\n",
        "print(Set)"
      ],
      "metadata": {
        "colab": {
          "base_uri": "https://localhost:8080/"
        },
        "id": "A4fqfvWuMxXG",
        "outputId": "4ff0e55c-eb7d-4348-d020-8c9e762f655f"
      },
      "execution_count": 38,
      "outputs": [
        {
          "output_type": "stream",
          "name": "stdout",
          "text": [
            "{1, 2, 3, 4, 5, 6}\n"
          ]
        }
      ]
    },
    {
      "cell_type": "markdown",
      "source": [
        "**Removing Elements:**\n",
        "1. remove(element):\n",
        "Removes a specific element from the set. Raises a KeyError if the element is not present.\n",
        "\n",
        "2. discard(element):\n",
        "Removes a specific element from the set if it is present. Does not raise an error if the element is not found.\n",
        "\n",
        "3. pop():\n",
        "Removes and returns an arbitrary element from the set. Raises a KeyError if the set is empty."
      ],
      "metadata": {
        "id": "rCaSoTxXM7j3"
      }
    },
    {
      "cell_type": "code",
      "source": [
        "Set = {1,2,3, 4,5,7,8,9}\n",
        "Set.remove(5)\n",
        "Set.discard(3)\n",
        "popped_element = Set.pop()\n",
        "print(Set,f\"Popped element is {popped_element}\")"
      ],
      "metadata": {
        "colab": {
          "base_uri": "https://localhost:8080/"
        },
        "id": "PhDYWlGrNAun",
        "outputId": "c3c0c157-36f1-4990-cdf6-2dd02ef2b597"
      },
      "execution_count": 39,
      "outputs": [
        {
          "output_type": "stream",
          "name": "stdout",
          "text": [
            "{2, 4, 7, 8, 9} Popped element is 1\n"
          ]
        }
      ]
    },
    {
      "cell_type": "markdown",
      "source": [
        "**Set Operations:**\n",
        "1. union() or |:\n",
        "Returns a new set containing all unique elements from both sets.\n",
        "\n",
        "2. intersection() or &:\n",
        "Returns a new set containing common elements between two sets.\n",
        "\n",
        "3. difference() or -:\n",
        "Returns a new set with elements in the first set but not in the second set.\n",
        "\n",
        "4. symmetric_difference() or ^:\n",
        "Returns a new set with elements in either set, but not both."
      ],
      "metadata": {
        "id": "UbJHVUxFNEjJ"
      }
    },
    {
      "cell_type": "code",
      "source": [
        "set1 = {2, 3, 4, 5, 6}\n",
        "set2 = {4, 5, 7, 9, 1}\n",
        "union_set = set1.union(set2)\n",
        "intersection_set = set1.intersection(set2)\n",
        "difference_set = set2-set1\n",
        "symmeteric_diff = set1 ^ set2\n",
        "print(f\"union set : {union_set}\")\n",
        "print(f\"intersection set : {intersection_set}\")\n",
        "print(f\"difference of sets : {difference_set}\")\n",
        "print(f\"symmetric difference : {symmeteric_diff}\")"
      ],
      "metadata": {
        "colab": {
          "base_uri": "https://localhost:8080/"
        },
        "id": "ciYp3zGZNJCp",
        "outputId": "120452b5-2156-41bd-cdaf-a51edffce27d"
      },
      "execution_count": 40,
      "outputs": [
        {
          "output_type": "stream",
          "name": "stdout",
          "text": [
            "union set : {1, 2, 3, 4, 5, 6, 7, 9}\n",
            "intersection set : {4, 5}\n",
            "difference of sets : {1, 9, 7}\n",
            "symmetric difference : {1, 2, 3, 6, 7, 9}\n"
          ]
        }
      ]
    },
    {
      "cell_type": "markdown",
      "source": [
        "**5. Other Methods:**\n",
        "\n",
        "(i) clear(): Removes all elements from the set, making it empty.\n",
        "\n",
        "(ii) copy(): Returns a shallow copy of the set.\n",
        "\n",
        "(iii) len(): Returns the number of elements in the set."
      ],
      "metadata": {
        "id": "xOnC4C2ONIWq"
      }
    },
    {
      "cell_type": "code",
      "source": [
        "Set = {2, 3, 4, 7, 8, 0}\n",
        "copy_set = Set.copy()\n",
        "set_length = len(Set)\n",
        "print(\"copy of set \", copy_set,\" set length \", set_length)\n",
        "Set.clear()\n",
        "print(\"Original set \", Set)"
      ],
      "metadata": {
        "colab": {
          "base_uri": "https://localhost:8080/"
        },
        "id": "b9QmYYpZNSGT",
        "outputId": "adb4eaac-2d72-49ae-dd62-a95049c6ac24"
      },
      "execution_count": 41,
      "outputs": [
        {
          "output_type": "stream",
          "name": "stdout",
          "text": [
            "copy of set  {0, 2, 3, 4, 7, 8}  set length  6\n",
            "Original set  set()\n"
          ]
        }
      ]
    },
    {
      "cell_type": "markdown",
      "source": [
        "(iv) in and not in: Checks for membership in a set."
      ],
      "metadata": {
        "id": "vqszNdbcNUuM"
      }
    },
    {
      "cell_type": "code",
      "source": [
        "Set = {2, 4, 5, 7, 8}\n",
        "if 5 in Set:\n",
        "    print(\"5 is in the set\")"
      ],
      "metadata": {
        "colab": {
          "base_uri": "https://localhost:8080/"
        },
        "id": "lNvoJxeDNYcy",
        "outputId": "1db03171-ad0f-4485-c63f-dd4cc7baa5e2"
      },
      "execution_count": 42,
      "outputs": [
        {
          "output_type": "stream",
          "name": "stdout",
          "text": [
            "5 is in the set\n"
          ]
        }
      ]
    }
  ]
}