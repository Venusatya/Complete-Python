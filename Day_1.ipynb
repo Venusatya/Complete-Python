{
  "nbformat": 4,
  "nbformat_minor": 0,
  "metadata": {
    "colab": {
      "provenance": []
    },
    "kernelspec": {
      "name": "python3",
      "display_name": "Python 3"
    },
    "language_info": {
      "name": "python"
    }
  },
  "cells": [
    {
      "cell_type": "markdown",
      "source": [
        "**Data Types**\n",
        "\n",
        "In Python , Data types of a variable are interpreted at runtime and we don't have to initially declare it, that is why Python is called dynamically-typed language. It represents the kind of value that tells what operations can be performed on a particular data. Since everything is an object in Python programming, data types are actually classes and variables are instances (object) of these classes.\n",
        "\n",
        "Use type() to find the type of the variable\n",
        "\n"
      ],
      "metadata": {
        "id": "g6vLNleNLP4k"
      }
    },
    {
      "cell_type": "markdown",
      "source": [
        "**1. Numeric Types**\n",
        "\n",
        "**a. Integers (int):**\n",
        "\n",
        "Integers represent whole numbers without any decimal point. It can be both positive and negative numbers ranging [-inf,..,0,....+inf]\n",
        "\n"
      ],
      "metadata": {
        "id": "rqPBccDnMxiT"
      }
    },
    {
      "cell_type": "code",
      "source": [
        "a = 5\n",
        "b = -34\n",
        "c = 289\n",
        "print(\"Type of a: \", type(a))\n",
        "print(\"Type of b: \", type(b))\n",
        "print(\"Type of c: \", type(c))"
      ],
      "metadata": {
        "colab": {
          "base_uri": "https://localhost:8080/"
        },
        "id": "PbCXt5ZCLgJ8",
        "outputId": "c4aeb056-01ab-40cf-ca28-23f54349e179"
      },
      "execution_count": 13,
      "outputs": [
        {
          "output_type": "stream",
          "name": "stdout",
          "text": [
            "Type of a:  <class 'int'>\n",
            "Type of b:  <class 'int'>\n",
            "Type of c:  <class 'int'>\n"
          ]
        }
      ]
    },
    {
      "cell_type": "markdown",
      "source": [
        "**b. Floating-Point Numbers (float):**\n",
        "\n",
        "Float type represent real numbers and can have decimal points."
      ],
      "metadata": {
        "id": "jxDGEKcgNSeH"
      }
    },
    {
      "cell_type": "code",
      "source": [
        "a = 5.0\n",
        "b = -479.54\n",
        "print(\"Type of a: \", type(a))\n",
        "print(\"Type of b: \", type(b))"
      ],
      "metadata": {
        "colab": {
          "base_uri": "https://localhost:8080/"
        },
        "id": "to1H_zLxNY1q",
        "outputId": "85c5a9d8-3033-4b4c-dc3a-6e4999f8b7f8"
      },
      "execution_count": 14,
      "outputs": [
        {
          "output_type": "stream",
          "name": "stdout",
          "text": [
            "Type of a:  <class 'float'>\n",
            "Type of b:  <class 'float'>\n"
          ]
        }
      ]
    },
    {
      "cell_type": "markdown",
      "source": [
        "**c. Complex Numbers (complex):**\n",
        "\n",
        "Complex numbers have a real and an imaginary part. It is specified as (real part) + (imaginary part)j."
      ],
      "metadata": {
        "id": "Axl96dumNfg_"
      }
    },
    {
      "cell_type": "code",
      "source": [
        "a = 2 + 4j\n",
        "b = 3 - 5j\n",
        "print(\"Type of a: \", type(a))\n",
        "print(\"Type of b: \", type(b))"
      ],
      "metadata": {
        "colab": {
          "base_uri": "https://localhost:8080/"
        },
        "id": "9wVQ7U9-Nm3R",
        "outputId": "471fff43-6854-4b67-97d3-6354d2cfee46"
      },
      "execution_count": 15,
      "outputs": [
        {
          "output_type": "stream",
          "name": "stdout",
          "text": [
            "Type of a:  <class 'complex'>\n",
            "Type of b:  <class 'complex'>\n"
          ]
        }
      ]
    },
    {
      "cell_type": "markdown",
      "source": [
        "**2. Sequence Types**\n",
        "\n",
        "**a. Strings :**\n",
        "\n",
        "A string is a collection of one or more characters put in a single quote, double-quote, or triple-quote. In python there is no character data type, a character is a string of length one.\n",
        "\n",
        "Example: s='python', s=\"Py\", s='''Language''', s='a', s='1.0', s=\"\"\n",
        "\n",
        "If you need to include quotes within the string, you can use the opposite type of quote for enclosing the string. This technique ensures that the quotes inside the string are treated as literal characters and not as the string delimiters."
      ],
      "metadata": {
        "id": "AyZ59SOfNr_7"
      }
    },
    {
      "cell_type": "code",
      "source": [
        "String1 = 'Python'\n",
        "print(\"String with the use of Single Quotes: \", String1)\n",
        "String2 = \"I'm learning Python\"\n",
        "print(\"String with the use of Double Quotes including single quotes: \", String2, type(String2))\n",
        "String3 = '''I'm Learning Python and i love \"Python\" Language'''\n",
        "print(\"String with the use of Triple Quotes: \", String3, type(String3))\n",
        "String4 = '''Python\n",
        "\t\t\tis\n",
        "\t\t\tEasy'''\n",
        "print(\"Creating a multiline String: \", String4)\n"
      ],
      "metadata": {
        "colab": {
          "base_uri": "https://localhost:8080/"
        },
        "id": "ulii937LOBM4",
        "outputId": "afa0adf3-1761-4d84-ae76-31ba2d312753"
      },
      "execution_count": 16,
      "outputs": [
        {
          "output_type": "stream",
          "name": "stdout",
          "text": [
            "String with the use of Single Quotes:  Python\n",
            "String with the use of Double Quotes including single quotes:  I'm learning Python <class 'str'>\n",
            "String with the use of Triple Quotes:  I'm Learning Python and i love \"Python\" Language <class 'str'>\n",
            "Creating a multiline String:  Python \n",
            "\t\t\tis\n",
            "\t\t\tEasy\n"
          ]
        }
      ]
    },
    {
      "cell_type": "markdown",
      "source": [
        "**b. Lists :**\n",
        "\n",
        "Lists is a collection of ordered and mutable elements. To declare a empty list we have to define []"
      ],
      "metadata": {
        "id": "7fai_QeiOZAs"
      }
    },
    {
      "cell_type": "code",
      "source": [
        "lst1=[] #empty list\n",
        "print(type(lst1))\n",
        "lst2=[1.0, 2, 'Python', \"Language\"]\n",
        "print(type(lst2))"
      ],
      "metadata": {
        "colab": {
          "base_uri": "https://localhost:8080/"
        },
        "id": "enmGNg_TOiXY",
        "outputId": "ae79d28b-0bf3-418a-b2e8-f571057b79d6"
      },
      "execution_count": 17,
      "outputs": [
        {
          "output_type": "stream",
          "name": "stdout",
          "text": [
            "<class 'list'>\n",
            "<class 'list'>\n"
          ]
        }
      ]
    },
    {
      "cell_type": "markdown",
      "source": [
        "**c. Tuples :**\n",
        "\n",
        "Tuples is a collection of ordered and immutable elements. To declare a empty tuple we have to define using ()"
      ],
      "metadata": {
        "id": "zl3mo3h7Or4Q"
      }
    },
    {
      "cell_type": "code",
      "source": [
        "tup1 = ()\n",
        "print(type(tup1))\n",
        "tup2 = (1)\n",
        "print(type(tup2))\n",
        "tup3 = (2, )\n",
        "print(type(tup3))"
      ],
      "metadata": {
        "colab": {
          "base_uri": "https://localhost:8080/"
        },
        "id": "iTBEVvsIPKoM",
        "outputId": "8c0c7b5e-c817-437a-da83-d03842512455"
      },
      "execution_count": 18,
      "outputs": [
        {
          "output_type": "stream",
          "name": "stdout",
          "text": [
            "<class 'tuple'>\n",
            "<class 'int'>\n",
            "<class 'tuple'>\n"
          ]
        }
      ]
    },
    {
      "cell_type": "markdown",
      "source": [
        "In the above example tup2 is considered as int instead of tuple. So if there is one element in the tuple we have to use comma like tup3"
      ],
      "metadata": {
        "id": "R3RcbRbEPgg0"
      }
    },
    {
      "cell_type": "markdown",
      "source": [
        "**3. Boolean**\n",
        "\n",
        "The boolean data type represents truth values either True or False.\n",
        "\n",
        "**Note**\n",
        "\n",
        " - True and False with capital ‘T’ and ‘F’ are valid booleans otherwise python will throw an error.\n",
        "\n",
        "- nternally Python represents True as 1 and False as 0"
      ],
      "metadata": {
        "id": "iCjaya2QPwam"
      }
    },
    {
      "cell_type": "code",
      "source": [
        "selected = True\n",
        "print(type(selected))"
      ],
      "metadata": {
        "colab": {
          "base_uri": "https://localhost:8080/"
        },
        "id": "YwuElDnTQRQj",
        "outputId": "60f29f6c-f754-4f40-ddf6-8d99a32dc06f"
      },
      "execution_count": 19,
      "outputs": [
        {
          "output_type": "stream",
          "name": "stdout",
          "text": [
            "<class 'bool'>\n"
          ]
        }
      ]
    },
    {
      "cell_type": "code",
      "source": [
        "a = True\n",
        "b = True\n",
        "\n",
        "print(a + b)\n",
        "\n",
        "c = True\n",
        "d = False\n",
        "\n",
        "print(c + d)\n",
        "\n",
        "e = False\n",
        "f = False\n",
        "\n",
        "print(e + f)"
      ],
      "metadata": {
        "colab": {
          "base_uri": "https://localhost:8080/"
        },
        "id": "Pof9a2G1QUzw",
        "outputId": "4453d716-08c3-4963-b610-b8cef9dbaa0e"
      },
      "execution_count": 24,
      "outputs": [
        {
          "output_type": "stream",
          "name": "stdout",
          "text": [
            "2\n",
            "1\n",
            "0\n"
          ]
        }
      ]
    },
    {
      "cell_type": "markdown",
      "source": [
        "**4. Set**\n",
        "\n",
        "Set is an unordered collection of data types that is iterable, mutable and has no duplicate elements. The order of elements in a set is undefined though it may consist of various elements."
      ],
      "metadata": {
        "id": "5F1oSYYhQ5XJ"
      }
    },
    {
      "cell_type": "code",
      "source": [
        "c = set()\n",
        "c = {1, 4, 5, \"Python\", 6.0}\n",
        "print(type(c))"
      ],
      "metadata": {
        "colab": {
          "base_uri": "https://localhost:8080/"
        },
        "id": "6yEkXribQ89F",
        "outputId": "f0472bde-6137-4560-cd25-5e98ddb37d89"
      },
      "execution_count": 25,
      "outputs": [
        {
          "output_type": "stream",
          "name": "stdout",
          "text": [
            "<class 'set'>\n"
          ]
        }
      ]
    },
    {
      "cell_type": "markdown",
      "source": [
        "**5. Dictionary**\n",
        "\n",
        "A dictionary in Python is an unordered collection of data values in form of key-value pairs. Key-value is provided in the dictionary to make it more optimized. Each key-value pair in a Dictionary is separated by a colon : , whereas each key is separated by a ‘comma’."
      ],
      "metadata": {
        "id": "uwqXva8xRBUB"
      }
    },
    {
      "cell_type": "code",
      "source": [
        "Dict1 = {}\n",
        "print(\"Empty Dictionary: \", Dict1, type(Dict1))\n",
        "Dict2 = {1: 'Python', 2: 'is', 3: 'easy'}\n",
        "print(\"Dictionary with the use of Integer Keys: \", Dict2, type(Dict2))\n",
        "Dict3 = {'Name': 'Python', 1: [1, 2, 3, 4]}\n",
        "print(\"Dictionary with the use of Mixed Keys: \", Dict3, type(Dict3))\n",
        "Dict4 = dict([(1, 'Python'), (2, 'For')])\n",
        "print(\"Dictionary with each item as a pair: \", Dict4, type(Dict4))"
      ],
      "metadata": {
        "colab": {
          "base_uri": "https://localhost:8080/"
        },
        "id": "vueG7v5kRFx6",
        "outputId": "97c9bb14-de53-4c6f-f589-1c385480ac6c"
      },
      "execution_count": 26,
      "outputs": [
        {
          "output_type": "stream",
          "name": "stdout",
          "text": [
            "Empty Dictionary:  {} <class 'dict'>\n",
            "Dictionary with the use of Integer Keys:  {1: 'Python', 2: 'is', 3: 'easy'} <class 'dict'>\n",
            "Dictionary with the use of Mixed Keys:  {'Name': 'Python', 1: [1, 2, 3, 4]} <class 'dict'>\n",
            "Dictionary with each item as a pair:  {1: 'Python', 2: 'For'} <class 'dict'>\n"
          ]
        }
      ]
    },
    {
      "cell_type": "markdown",
      "source": [
        "**Print Function**\n",
        "\n",
        "Used to print the output to the console\n",
        "\n",
        "**end' and 'sep' parameter in python**\n",
        "\n",
        "**'end' :**\n",
        "end is the parameter of python's built-in print() function. It controls what should be printed at the end of print method. By default print statement ends with a newline (end='/n'). we can specify any string, special characters, or any escape sequences."
      ],
      "metadata": {
        "id": "vSgST_bmRZE2"
      }
    },
    {
      "cell_type": "code",
      "source": [
        "a = \"Python is easy\"\n",
        "b = \"Language\"\n",
        "print(a, end='  ')\n",
        "print(b)\n",
        "print(a, end=' * ')\n",
        "print(b)"
      ],
      "metadata": {
        "colab": {
          "base_uri": "https://localhost:8080/"
        },
        "id": "5N36IvT6Rja-",
        "outputId": "d1bfc2e1-35ad-4d77-e8f8-b1fc05342abc"
      },
      "execution_count": 27,
      "outputs": [
        {
          "output_type": "stream",
          "name": "stdout",
          "text": [
            "Python is easy  Language\n",
            "Python is easy * Language\n"
          ]
        }
      ]
    },
    {
      "cell_type": "markdown",
      "source": [
        "**'sep' :**\n",
        "\n",
        "The sep parameter is used to specify the separator between the values that are passed to the print() function. By default print() uses a space character as the separator between values."
      ],
      "metadata": {
        "id": "E0tTX7NRR9yb"
      }
    },
    {
      "cell_type": "code",
      "source": [
        "a = \"Python is easy\"\n",
        "b = \"Language\"\n",
        "print(\"Python\", \"is\", \"easy\", sep='-', end=' * ' )\n",
        "print(b)\n",
        "print(a, b, sep='\\n')"
      ],
      "metadata": {
        "colab": {
          "base_uri": "https://localhost:8080/"
        },
        "id": "3ggkeKpUSA9d",
        "outputId": "e31be934-a790-43ac-ad6f-7ff940621a4c"
      },
      "execution_count": 29,
      "outputs": [
        {
          "output_type": "stream",
          "name": "stdout",
          "text": [
            "Python-is-easy * Language\n",
            "Python is easy\n",
            "Language\n"
          ]
        }
      ]
    },
    {
      "cell_type": "markdown",
      "source": [
        "**Operators**\n",
        "\n",
        "Operators in general are used to perform operations on values and variables. These are standard symbols used for the purpose of logical and arithmetic operations.\n",
        "\n",
        "**OPERATORS:** These are the special symbols. Eg + , * , /, %, >> etc.\n",
        "\n",
        "**OPERANDS:** The values on which operator is applied.\n",
        "\n",
        "Different type of operators in Python are:\n",
        "\n"
      ],
      "metadata": {
        "id": "dvySXZLPSjTo"
      }
    },
    {
      "cell_type": "markdown",
      "source": [
        "**Arithmetic Operators**\n",
        "\n",
        "Arithmetic operators are used to perform basic mathematical operations like addition, multiplication, division etc.\n",
        "In Python 3.x the result of division is a floating-point while in Python 2.x division of 2 integers was an integer. To obtain an integer result in Python 3.x floored (// integer) is used."
      ],
      "metadata": {
        "id": "kq29JJm7SvQk"
      }
    },
    {
      "cell_type": "code",
      "source": [
        "a = 8\n",
        "b = 5\n",
        "# addition\n",
        "print ('Addition : ', a + b)\n",
        "\n",
        "# subtraction\n",
        "print ('Subtraction: ', a - b)\n",
        "\n",
        "# multiplication\n",
        "print ('Multiplication: ', a * b)\n",
        "\n",
        "# division\n",
        "print ('Division: ', a / b)\n",
        "\n",
        "# floor division\n",
        "print ('Floor Division: ', a // b)\n",
        "\n",
        "# modulo\n",
        "print ('Modulo: ', a % b)\n",
        "\n",
        "# a to the power b\n",
        "print ('Power: ', a ** b)"
      ],
      "metadata": {
        "colab": {
          "base_uri": "https://localhost:8080/"
        },
        "id": "fhpQl-K9TBgV",
        "outputId": "01509534-ac21-4102-8088-f427f806a1d2"
      },
      "execution_count": 30,
      "outputs": [
        {
          "output_type": "stream",
          "name": "stdout",
          "text": [
            "Addition :  13\n",
            "Subtraction:  3\n",
            "Multiplication:  40\n",
            "Division:  1.6\n",
            "Floor Division:  1\n",
            "Modulo:  3\n",
            "Power:  32768\n"
          ]
        }
      ]
    },
    {
      "cell_type": "markdown",
      "source": [
        "**Comparison Operators**\n",
        "\n",
        "Comparison operators in Python are used to compare values and return a Boolean result (either True or False). These operators allow you to compare whether values are equal, not equal, greater than, less than, greater than or equal to, or less than or equal to."
      ],
      "metadata": {
        "id": "2w678NoyTFrz"
      }
    },
    {
      "cell_type": "code",
      "source": [
        "x = 5\n",
        "y = 7\n",
        "# equal to operator\n",
        "print('is x equal to y -', x == y)\n",
        "\n",
        "# not equal to operator\n",
        "print('is x not equal to y -', x != y)\n",
        "\n",
        "# greater than operator\n",
        "print('is x greater than y -', x > y)\n",
        "\n",
        "# less than operator\n",
        "print('is x less than y -', x < y)\n",
        "\n",
        "# greater than or equal to operator\n",
        "print('is x greater than or equal to y -', x >= y)\n",
        "\n",
        "# less than or equal to operator\n",
        "print('is x less than or equal to y -', x <= y)"
      ],
      "metadata": {
        "colab": {
          "base_uri": "https://localhost:8080/"
        },
        "id": "sTzZSukcTKGl",
        "outputId": "5adc11f9-fcc0-47a6-fc76-4032ee560bd6"
      },
      "execution_count": 31,
      "outputs": [
        {
          "output_type": "stream",
          "name": "stdout",
          "text": [
            "is x equal to y - False\n",
            "is x not equal to y - True\n",
            "is x greater than y - False\n",
            "is x less than y - True\n",
            "is x greater than or equal to y - False\n",
            "is x less than or equal to y - True\n"
          ]
        }
      ]
    },
    {
      "cell_type": "markdown",
      "source": [
        "**Logical Operators**\n",
        "\n",
        "Logical operators in Python are used to perform logical operations on boolean values. They are commonly used in decision-making and control flow structures. These operators help check the truth value of expressions and combine multiple conditions to determine whether an overall expression evaluates to True or False."
      ],
      "metadata": {
        "id": "mCzLCv7OTOVP"
      }
    },
    {
      "cell_type": "code",
      "source": [
        "p = True\n",
        "q = False\n",
        "print(\"p =\",p,\" q =\",q)\n",
        "print(\"if p is AND with q, it will output\", p and q)\n",
        "print(\"if p is OR with q, it will output\",p or q)\n",
        "print(\"not of p will output\",not p)\n",
        "p = True\n",
        "q = True\n",
        "print(\"p =\",p,\" q =\",q)\n",
        "print(\"if p is AND with q, it will output\", p and q)\n",
        "print(\"if p is OR with q, it will output\",p or q)\n",
        "print(\"not of p will output\",not p)\n",
        "p = False\n",
        "q = False\n",
        "print(\"p =\",p,\" q =\",q)\n",
        "print(\"if p is AND with q, it will output\", p and q)\n",
        "print(\"if p is OR with q, it will output\",p or q)\n",
        "print(\"not of p will output\",not p)"
      ],
      "metadata": {
        "colab": {
          "base_uri": "https://localhost:8080/"
        },
        "id": "sRNcJC--TSWA",
        "outputId": "9299b641-f917-43e0-f50a-ccc60e0b9731"
      },
      "execution_count": 32,
      "outputs": [
        {
          "output_type": "stream",
          "name": "stdout",
          "text": [
            "p = True  q = False\n",
            "if p is AND with q, it will output False\n",
            "if p is OR with q, it will output True\n",
            "not of p will output False\n",
            "p = True  q = True\n",
            "if p is AND with q, it will output True\n",
            "if p is OR with q, it will output True\n",
            "not of p will output False\n",
            "p = False  q = False\n",
            "if p is AND with q, it will output False\n",
            "if p is OR with q, it will output False\n",
            "not of p will output True\n"
          ]
        }
      ]
    },
    {
      "cell_type": "markdown",
      "source": [
        "**Bitwise Operators**\n",
        "\n",
        "Bitwise operators in Python are used to perform operations on individual bits of binary numbers. These operators manipulate the binary representation of integers at the bit level.\n",
        "\n",
        "1. & (Bitwise AND):\n",
        "Performs a bitwise AND operation between corresponding bits of two integers. The result is 1 only if both bits are 1.\n",
        "\n",
        "2. | (Bitwise OR):\n",
        "Performs a bitwise AND operation between corresponding bits of two integers. The result is 1 if at least one of the bits is 1.\n",
        "\n",
        "3. ~ (Bitwise NOT):\n",
        "It flips the bits of an integer bitwise. If convert 1s to 0s and 0s to 1s.\n",
        "\n",
        "4. ^ (Bitwise XOR):\n",
        "Performs a bitwise XOR (exclusive OR) operation between corresponding bits of two integers. The result is 1 if the bits are different.\n",
        "\n",
        "\n",
        "5. << (Left shift):\n",
        "Shifts the bits of an integer to the left by a specified number of positions, adding zeros to the right."
      ],
      "metadata": {
        "id": "C8WDKbGnTf4J"
      }
    },
    {
      "cell_type": "code",
      "source": [
        "a = 5  # Binary: 0b101\n",
        "result = a << 1  # Binary: 0b1010 (Left shift by 1 position)\n",
        "print(result)\n"
      ],
      "metadata": {
        "colab": {
          "base_uri": "https://localhost:8080/"
        },
        "id": "ZF9bxUJjTznY",
        "outputId": "c8c8fc2d-48ea-4678-f129-ff3665e79792"
      },
      "execution_count": 33,
      "outputs": [
        {
          "output_type": "stream",
          "name": "stdout",
          "text": [
            "10\n"
          ]
        }
      ]
    },
    {
      "cell_type": "markdown",
      "source": [
        "6. >> (Right Shift):\n",
        "\n",
        "Shifts the bits of an integer to the right by a specified number of positions, adding zeros to the left."
      ],
      "metadata": {
        "id": "hdHFtT1ST3FZ"
      }
    },
    {
      "cell_type": "code",
      "source": [
        "a = 20  #binary - 0b10100\n",
        "result = a >> 2  #shifts right by 2 position- 0b00101->5\n",
        "print(result)"
      ],
      "metadata": {
        "colab": {
          "base_uri": "https://localhost:8080/"
        },
        "id": "GVEX2Zj9T79n",
        "outputId": "924b5271-0ec4-47ee-d867-da40b166cf62"
      },
      "execution_count": 34,
      "outputs": [
        {
          "output_type": "stream",
          "name": "stdout",
          "text": [
            "5\n"
          ]
        }
      ]
    },
    {
      "cell_type": "markdown",
      "source": [
        "**Typecasting**, also known as type conversion or coercion, is the process of converting one data type into another in programming languages. Python being a dynamically typed language, allows for flexible typecasting to accommodate various data types.\n",
        "\n",
        "There are basically two types of Type conversion in python:\n",
        "\n",
        "\n",
        "*   **Implicit Typecasting**\n",
        "\n",
        "*   **Explicit Typecasting**\n"
      ],
      "metadata": {
        "id": "gHWIHnQ7T_WY"
      }
    },
    {
      "cell_type": "markdown",
      "source": [
        "**Implicit Typecasting**\n",
        "\n",
        "In certain situations python automatically converts one data type to another when operations involve different data types. This is known as implicit type conversion.\n",
        "\n",
        "**1. Integer and float**"
      ],
      "metadata": {
        "id": "XPYH70jYUxQR"
      }
    },
    {
      "cell_type": "code",
      "source": [
        "# Implicit typecasting from int to float\n",
        "integer_number = 5\n",
        "float_number = 3.14\n",
        "result = integer_number + float_number\n",
        "print(result)\n",
        "# The integer is implicitly converted to a float before the addition.\n"
      ],
      "metadata": {
        "colab": {
          "base_uri": "https://localhost:8080/"
        },
        "id": "W2iYRmqGUnCl",
        "outputId": "ff88b857-e770-4c3c-a1c2-0a5892b8d77f"
      },
      "execution_count": 35,
      "outputs": [
        {
          "output_type": "stream",
          "name": "stdout",
          "text": [
            "8.14\n"
          ]
        }
      ]
    },
    {
      "cell_type": "markdown",
      "source": [
        "**2. Integer and String**"
      ],
      "metadata": {
        "id": "irmJHZx_UqJY"
      }
    },
    {
      "cell_type": "code",
      "source": [
        "# Implicit typecasting from int to string\n",
        "integer_number = 10\n",
        "string_number = \"5\"\n",
        "result = integer_number + string_number\n",
        "print(result)  # Output: TypeError (unsupported operand type(s) for +)\n"
      ],
      "metadata": {
        "colab": {
          "base_uri": "https://localhost:8080/",
          "height": 193
        },
        "id": "U-FsOOExU6SZ",
        "outputId": "9e401841-91a2-43b4-f772-a74d6abed7b0"
      },
      "execution_count": 36,
      "outputs": [
        {
          "output_type": "error",
          "ename": "TypeError",
          "evalue": "unsupported operand type(s) for +: 'int' and 'str'",
          "traceback": [
            "\u001b[0;31m---------------------------------------------------------------------------\u001b[0m",
            "\u001b[0;31mTypeError\u001b[0m                                 Traceback (most recent call last)",
            "\u001b[0;32m<ipython-input-36-356d2b4c709f>\u001b[0m in \u001b[0;36m<cell line: 4>\u001b[0;34m()\u001b[0m\n\u001b[1;32m      2\u001b[0m \u001b[0minteger_number\u001b[0m \u001b[0;34m=\u001b[0m \u001b[0;36m10\u001b[0m\u001b[0;34m\u001b[0m\u001b[0;34m\u001b[0m\u001b[0m\n\u001b[1;32m      3\u001b[0m \u001b[0mstring_number\u001b[0m \u001b[0;34m=\u001b[0m \u001b[0;34m\"5\"\u001b[0m\u001b[0;34m\u001b[0m\u001b[0;34m\u001b[0m\u001b[0m\n\u001b[0;32m----> 4\u001b[0;31m \u001b[0mresult\u001b[0m \u001b[0;34m=\u001b[0m \u001b[0minteger_number\u001b[0m \u001b[0;34m+\u001b[0m \u001b[0mstring_number\u001b[0m\u001b[0;34m\u001b[0m\u001b[0;34m\u001b[0m\u001b[0m\n\u001b[0m\u001b[1;32m      5\u001b[0m \u001b[0mprint\u001b[0m\u001b[0;34m(\u001b[0m\u001b[0mresult\u001b[0m\u001b[0;34m)\u001b[0m  \u001b[0;31m# Output: TypeError (unsupported operand type(s) for +)\u001b[0m\u001b[0;34m\u001b[0m\u001b[0;34m\u001b[0m\u001b[0m\n",
            "\u001b[0;31mTypeError\u001b[0m: unsupported operand type(s) for +: 'int' and 'str'"
          ]
        }
      ]
    },
    {
      "cell_type": "markdown",
      "source": [
        "**Explicit Typecasting**\n",
        "\n",
        "Explicit type conversion, also known as typecasting, is a process in which a programmer manually converts the data type of an object to the desired data type. In Python, built-in functions such as int(), float(), str(), etc., are used to perform explicit type conversion.\n",
        "\n",
        "Int():\n",
        "Python Int() function take float or string as an argument and returns int type object.\n",
        "\n",
        "float():\n",
        "Python float() function take int or string as an argument and return float type object.\n",
        "\n",
        "str():\n",
        "Python str() function takes float or int as an argument and returns string type object."
      ],
      "metadata": {
        "id": "QXj0btvNVHkU"
      }
    },
    {
      "cell_type": "code",
      "source": [
        "# Converting int to float\n",
        "integer_number = 41\n",
        "float_number = float(integer_number)\n",
        "print(float_number, type(float_number))\n",
        "\n",
        "# Converting float to int\n",
        "float_value = 7.12\n",
        "int_value = int(float_value)\n",
        "print(int_value, type(int_value))\n",
        "\n",
        "# Converting int to str\n",
        "integer_value = 123\n",
        "str_value = str(integer_value)\n",
        "print(str_value,type(str_value))"
      ],
      "metadata": {
        "colab": {
          "base_uri": "https://localhost:8080/"
        },
        "id": "91DKFjvAVKUI",
        "outputId": "97a05342-18d5-4937-bde1-25fa39697d89"
      },
      "execution_count": 37,
      "outputs": [
        {
          "output_type": "stream",
          "name": "stdout",
          "text": [
            "41.0 <class 'float'>\n",
            "7 <class 'int'>\n",
            "123 <class 'str'>\n"
          ]
        }
      ]
    },
    {
      "cell_type": "markdown",
      "source": [
        "**Typecasting in Collections:**\n",
        "*   List typecasting\n",
        "*   Set typecasting\n",
        "*   Tuple typecasting"
      ],
      "metadata": {
        "id": "Z4w1nlvdVN27"
      }
    },
    {
      "cell_type": "code",
      "source": [
        "# Converting a tuple to a list\n",
        "tuple_data = (1, 2, 3)\n",
        "list_data = list(tuple_data)\n",
        "print(list_data)\n",
        "\n",
        "# Converting a list to a set\n",
        "list_data = [1, 2, 3]\n",
        "set_data = set(list_data)\n",
        "print(set_data)\n"
      ],
      "metadata": {
        "colab": {
          "base_uri": "https://localhost:8080/"
        },
        "id": "i3KJVSzWVh_O",
        "outputId": "ca5e8783-620e-4dd2-b218-bbb4629b60ff"
      },
      "execution_count": 38,
      "outputs": [
        {
          "output_type": "stream",
          "name": "stdout",
          "text": [
            "[1, 2, 3]\n",
            "{1, 2, 3}\n"
          ]
        }
      ]
    },
    {
      "cell_type": "markdown",
      "source": [
        "**Strings**\n",
        "\n",
        "A String is a data structure in Python that represents a sequence of characters. It is an immutable data type, meaning that once you have created a string, you cannot change it. Strings are used widely in many different applications, such as storing and manipulating text data, representing names, addresses, and other types of data that can be represented as text.\n"
      ],
      "metadata": {
        "id": "8-XVMc_VVlRq"
      }
    },
    {
      "cell_type": "markdown",
      "source": [
        "**String Concatenation**\n",
        "\n",
        "String concatenation involves combining multiple strings into a single string using the + operator.\n",
        "\n",
        "To use + operator for Strings, both arguments should be str type."
      ],
      "metadata": {
        "id": "mPuM9MX7VyTa"
      }
    },
    {
      "cell_type": "code",
      "source": [
        "string1 = \"Language\"\n",
        "string2 = \"Python\"\n",
        "concatenated_string = string2 + \" \" + string1\n",
        "print(concatenated_string)"
      ],
      "metadata": {
        "colab": {
          "base_uri": "https://localhost:8080/"
        },
        "id": "Z2hH1vJDV2QE",
        "outputId": "235ee93d-3f63-408c-ba06-fa852d496025"
      },
      "execution_count": 39,
      "outputs": [
        {
          "output_type": "stream",
          "name": "stdout",
          "text": [
            "Python Language\n"
          ]
        }
      ]
    },
    {
      "cell_type": "markdown",
      "source": [
        "**String Replication**\n",
        "\n",
        "String replication is achieved by using '*' operator to create a repeated copies of a string.\n",
        "\n",
        "To use * operator for Strings, compulsory one argument should be str and other\n",
        "argument should be int.\n"
      ],
      "metadata": {
        "id": "Ock6SuoCV9_H"
      }
    },
    {
      "cell_type": "code",
      "source": [
        "original_string = \"Python\"\n",
        "replicated_string = original_string * 3\n",
        "print(replicated_string)"
      ],
      "metadata": {
        "colab": {
          "base_uri": "https://localhost:8080/"
        },
        "id": "w5bQCEZCWC8u",
        "outputId": "17d603f9-11b2-4946-ce58-babbdc8678bc"
      },
      "execution_count": 40,
      "outputs": [
        {
          "output_type": "stream",
          "name": "stdout",
          "text": [
            "PythonPythonPython\n"
          ]
        }
      ]
    },
    {
      "cell_type": "markdown",
      "source": [
        "**String Length**\n",
        "\n",
        "The **len()** function returns the length (number of characters) of a string."
      ],
      "metadata": {
        "id": "RFEpXzNyWtO5"
      }
    },
    {
      "cell_type": "code",
      "source": [
        "String = \"Python is powerful!\"\n",
        "length = len(String)\n",
        "print(length)\n"
      ],
      "metadata": {
        "colab": {
          "base_uri": "https://localhost:8080/"
        },
        "id": "TJ8xDsQoW0MI",
        "outputId": "5724a855-fd07-461f-dafb-57e5f22cfe8f"
      },
      "execution_count": 41,
      "outputs": [
        {
          "output_type": "stream",
          "name": "stdout",
          "text": [
            "19\n"
          ]
        }
      ]
    },
    {
      "cell_type": "markdown",
      "source": [
        "**String Slicing**\n",
        "\n",
        "In Python, the String Slicing method is used to access a range of characters in the String. Slicing in a String is done by using a Slicing operator, i.e., a colon (**:**).\n",
        "\n",
        "**Note** - One thing to keep in mind while using this method is that the string returned after slicing includes the character at the start index but not the character at the last index."
      ],
      "metadata": {
        "id": "gGkuxni7W3br"
      }
    },
    {
      "cell_type": "code",
      "source": [
        "# Creating a String\n",
        "String1 = \"Python is easy\"\n",
        "\n",
        "# Printing 3rd to 12th character\n",
        "print(\"Slicing characters from 5-12: \")\n",
        "print(String1[5:12])\n",
        "\n",
        "# Printing between 3rd and 2nd last character\n",
        "print(\"Slicing characters between \" +\n",
        "\t\"3rd and 3rd last character: \")\n",
        "print(String1[3:-3])\n"
      ],
      "metadata": {
        "colab": {
          "base_uri": "https://localhost:8080/"
        },
        "id": "pc9wSujvW_ue",
        "outputId": "7f8fabf3-79e8-4eaf-f8de-717b37de59de"
      },
      "execution_count": 42,
      "outputs": [
        {
          "output_type": "stream",
          "name": "stdout",
          "text": [
            "Slicing characters from 5-12: \n",
            "n is ea\n",
            "Slicing characters between 3rd and 3rd last character: \n",
            "hon is e\n"
          ]
        }
      ]
    },
    {
      "cell_type": "markdown",
      "source": [
        "**String Case Conversion**\n",
        "\n",
        "Strings can be converted to uppercase or lowercase using **upper()** and **lower()** methods."
      ],
      "metadata": {
        "id": "D-cp2vluXGGi"
      }
    },
    {
      "cell_type": "code",
      "source": [
        "string = \"Hello, Python!\"\n",
        "uppercase_string = string.upper()\n",
        "lowercase_string = string.lower()\n",
        "print(uppercase_string)\n",
        "print(lowercase_string)"
      ],
      "metadata": {
        "colab": {
          "base_uri": "https://localhost:8080/"
        },
        "id": "sWyOvO1HXSBU",
        "outputId": "17ed73e1-c688-41bb-c0e3-b4505ec8348b"
      },
      "execution_count": 43,
      "outputs": [
        {
          "output_type": "stream",
          "name": "stdout",
          "text": [
            "HELLO, PYTHON!\n",
            "hello, python!\n"
          ]
        }
      ]
    },
    {
      "cell_type": "markdown",
      "source": [
        "**String Stripping**\n",
        "\n",
        "Stripping removes leading and trailing whitespace from a string using **strip()**, **lstrip()**, or **rstrip()**."
      ],
      "metadata": {
        "id": "hlSj9W8IXU7M"
      }
    },
    {
      "cell_type": "code",
      "source": [
        "whitespace_string = \"   Python   \"\n",
        "stripped_string = whitespace_string.strip()\n",
        "print(stripped_string)\n",
        "l_stripped_string = whitespace_string.lstrip()\n",
        "print(l_stripped_string)\n",
        "r_stripped_string = whitespace_string.rstrip()\n",
        "print(r_stripped_string)\n"
      ],
      "metadata": {
        "colab": {
          "base_uri": "https://localhost:8080/"
        },
        "id": "e4O3noh7XchJ",
        "outputId": "bc44853d-183f-4b90-f4f0-6037c9586c44"
      },
      "execution_count": 44,
      "outputs": [
        {
          "output_type": "stream",
          "name": "stdout",
          "text": [
            "Python\n",
            "Python   \n",
            "   Python\n"
          ]
        }
      ]
    },
    {
      "cell_type": "markdown",
      "source": [
        "**String Replacing**\n",
        "\n",
        "The **replace()** method replaces occurrences of a substring with another substring."
      ],
      "metadata": {
        "id": "98-J941RXiz0"
      }
    },
    {
      "cell_type": "code",
      "source": [
        "string = \"I am beginner in Python\"\n",
        "new_string = string.replace(\"beginner\", \"experienced\")\n",
        "print(new_string)\n"
      ],
      "metadata": {
        "colab": {
          "base_uri": "https://localhost:8080/"
        },
        "id": "mWjnRD3VXmSR",
        "outputId": "7b1a7b2b-33c6-47f5-cc35-4fa1096d3c4b"
      },
      "execution_count": 45,
      "outputs": [
        {
          "output_type": "stream",
          "name": "stdout",
          "text": [
            "I am experienced in Python\n"
          ]
        }
      ]
    },
    {
      "cell_type": "markdown",
      "source": [
        "**String Count**\n",
        "\n",
        "The **count()** method counts the number of occurrences of a substring in a string."
      ],
      "metadata": {
        "id": "g43SBBnSXpZT"
      }
    },
    {
      "cell_type": "code",
      "source": [
        "string = \"python program run on python IDLE, in pythonic way.\"\n",
        "count = string.count(\"python\")\n",
        "print(count)\n"
      ],
      "metadata": {
        "colab": {
          "base_uri": "https://localhost:8080/"
        },
        "id": "VWxvDsrEXuLx",
        "outputId": "51e5c214-064f-4b24-8e27-39f1578438ef"
      },
      "execution_count": 46,
      "outputs": [
        {
          "output_type": "stream",
          "name": "stdout",
          "text": [
            "3\n"
          ]
        }
      ]
    },
    {
      "cell_type": "markdown",
      "source": [
        "**String Find**\n",
        "\n",
        "The **find()** method returns the index of the first occurrence of a substring. If not found, it returns -1."
      ],
      "metadata": {
        "id": "nc89-kNFXxBX"
      }
    },
    {
      "cell_type": "code",
      "source": [
        "string = \"Python is powerful and Pythonic.\"\n",
        "index = string.find(\"Python\")\n",
        "print(index)\n",
        "index = string.find(\"python\")\n",
        "print(index)\n"
      ],
      "metadata": {
        "colab": {
          "base_uri": "https://localhost:8080/"
        },
        "id": "mPhiE6jcX1vm",
        "outputId": "8b4c3a42-6dd7-4744-e870-1a8faa55e8ba"
      },
      "execution_count": 47,
      "outputs": [
        {
          "output_type": "stream",
          "name": "stdout",
          "text": [
            "0\n",
            "-1\n"
          ]
        }
      ]
    },
    {
      "cell_type": "markdown",
      "source": [
        "**String Formatting**\n",
        "\n",
        "Strings in Python can be formatted with the use of **format()** method which is a very versatile and powerful tool for formatting Strings. Format method in String contains curly braces **{}** as placeholders which can hold arguments according to position or keyword to specify the order"
      ],
      "metadata": {
        "id": "tOmqfX8UX4sN"
      }
    },
    {
      "cell_type": "code",
      "source": [
        "# Default order\n",
        "String1 = \"{} {} {}\".format('Begineer', 'in', 'Python')\n",
        "print(\"Print String in default order: \")\n",
        "print(String1)\n",
        "\n",
        "# Positional Formatting\n",
        "String1 = \"{1} {0} {2}\".format('Begineer', 'in', 'Python')\n",
        "print(\"\\nPrint String in Positional order: \")\n",
        "print(String1)\n",
        "\n",
        "# Keyword Formatting\n",
        "String1 = \"{l} {f} {g}\".format(g='Begineer', f='in', l='Python')\n",
        "print(\"\\nPrint String in order of Keywords: \")\n",
        "print(String1)\n"
      ],
      "metadata": {
        "colab": {
          "base_uri": "https://localhost:8080/"
        },
        "id": "SOAH-mRHYDB1",
        "outputId": "07fe59dd-436e-4c13-aeb8-5ad635a73ac9"
      },
      "execution_count": 48,
      "outputs": [
        {
          "output_type": "stream",
          "name": "stdout",
          "text": [
            "Print String in default order: \n",
            "Begineer in Python\n",
            "\n",
            "Print String in Positional order: \n",
            "in Begineer Python\n",
            "\n",
            "Print String in order of Keywords: \n",
            "Python in Begineer\n"
          ]
        }
      ]
    },
    {
      "cell_type": "markdown",
      "source": [
        "**Variables**\n",
        "\n",
        "Python Variable is containers that store values. Python is not “statically typed”. We do not need to declare variables before using them or declare their type. A variable is created the moment we first assign a value to it. A Python variable is a name given to a memory location. It is the basic unit of storage in a program.\n",
        "\n",
        "**Assigning values to python variable**\n",
        "\n",
        "There are different ways in which we can assign values to a python variable.\n",
        "\n",
        "- Single Assignment\n",
        "\n",
        "- Multiple Assignment\n",
        "\n",
        "- Chained Assignment\n",
        "\n",
        "- Augmented Assignment"
      ],
      "metadata": {
        "id": "gNrrBvgXYRyU"
      }
    },
    {
      "cell_type": "code",
      "source": [
        "# Single assignment\n",
        "a = 5\n",
        "\n",
        "# Multiple assignment\n",
        "b, c = 10, 15\n",
        "\n",
        "# Chained assignment\n",
        "d = e = f = 20\n",
        "\n",
        "# Augmented assignment\n",
        "g = 8\n",
        "g += 2  # Equivalent to g = g + 2\n"
      ],
      "metadata": {
        "id": "H_fzrUHlYewz"
      },
      "execution_count": 49,
      "outputs": []
    },
    {
      "cell_type": "markdown",
      "source": [
        "**Variables naming conventions**\n",
        "\n",
        "\n",
        "There are some rules to name a variable in python:\n",
        "\n",
        "- A Python variable name must start with a letter or the underscore character.\n",
        "\n",
        "- A Python variable name cannot start with a number.\n",
        "\n",
        "- A Python variable name can only contain alpha-numeric characters and underscores (A-z, 0-9, and _ ).\n",
        "\n",
        "- Variable in Python names are case-sensitive (name, Name, and NAME are three different variables).\n",
        "\n",
        "- The reserved words(keywords) in Python cannot be used to name the variable in Python."
      ],
      "metadata": {
        "id": "nlKbtgNZYi7P"
      }
    },
    {
      "cell_type": "code",
      "source": [
        "#some valid variables\n",
        "variable = 120\n",
        "var_iab_le = 3.0\n",
        "_variable4 = 345.89\n",
        "_var_ = \"string variable\"\n",
        "Variable = 45\n",
        "_Var = 420\n"
      ],
      "metadata": {
        "id": "paFDWfl0YzEt"
      },
      "execution_count": 50,
      "outputs": []
    }
  ]
}