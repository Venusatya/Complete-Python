{
  "nbformat": 4,
  "nbformat_minor": 0,
  "metadata": {
    "colab": {
      "provenance": []
    },
    "kernelspec": {
      "name": "python3",
      "display_name": "Python 3"
    },
    "language_info": {
      "name": "python"
    }
  },
  "cells": [
    {
      "cell_type": "markdown",
      "source": [
        "**Conditional statements** are fundamental to programming as they allow the execution of specific code blocks based on certain conditions.\n",
        "\n",
        "1) if\n",
        "\n",
        "2) if-elif\n",
        "\n",
        "3) if-elif-else"
      ],
      "metadata": {
        "id": "LN_lnLp_bSkF"
      }
    },
    {
      "cell_type": "markdown",
      "source": [
        "**The if Statement:**\n",
        "\n",
        "if (condition):\n",
        "\n",
        "###### Executes this block if condition is true\n",
        "\n",
        "The if statement is used to execute a block of code if a specified condition is True."
      ],
      "metadata": {
        "id": "9sGX1SLcbkUI"
      }
    },
    {
      "cell_type": "code",
      "execution_count": null,
      "metadata": {
        "colab": {
          "base_uri": "https://localhost:8080/"
        },
        "id": "HAgColuLatb4",
        "outputId": "5866ef51-b5f1-478f-c10a-a058ee4593c6"
      },
      "outputs": [
        {
          "output_type": "stream",
          "name": "stdout",
          "text": [
            "x is greater than 5\n",
            "Outside if condition\n"
          ]
        }
      ],
      "source": [
        "x = 6\n",
        "if x > 5:\n",
        "    print(\"x is greater than 5\")\n",
        "print(\"Outside if condition\")"
      ]
    },
    {
      "cell_type": "markdown",
      "source": [
        "**The if-else statement :**\n",
        "\n",
        "if (condition):\n",
        "\n",
        "###### Executes this block if condition is true\n",
        "\n",
        "else:\n",
        "\n",
        "###### Executes this block if condition is false\n",
        "\n",
        "\n",
        "else part is always optional"
      ],
      "metadata": {
        "id": "v744Y87abxWh"
      }
    },
    {
      "cell_type": "code",
      "source": [
        "i = 31\n",
        "if (i < 25):\n",
        "\tprint(\"i is smaller than 25 , this is if Block\")\n",
        "else:\n",
        "\tprint(\"i is greater than 25, this is else Block\")\n",
        "print(\"out of if and else Block\")\n"
      ],
      "metadata": {
        "colab": {
          "base_uri": "https://localhost:8080/"
        },
        "id": "2kJ2O_PHb8zx",
        "outputId": "b20d9c93-7987-4dfa-e791-273e32bbc4ab"
      },
      "execution_count": null,
      "outputs": [
        {
          "output_type": "stream",
          "name": "stdout",
          "text": [
            "i is greater than 25, this is else Block\n",
            "out of if and else Block\n"
          ]
        }
      ]
    },
    {
      "cell_type": "markdown",
      "source": [
        "**The elif statement:**\n",
        "if (condition 1):\n",
        "\n",
        "###### Executes this block if condition 1 is true\n",
        "\n",
        "elif (condition 2):\n",
        "\n",
        "###### Executes this block if condition 2 is true\n",
        "\n",
        "else:\n",
        "\n",
        "###### Executes this block if condition 1 and 2 is false\n",
        "\n",
        "The elif statement allows you to check multiple conditions in sequence. It comes after an if statement and before an optional else statement."
      ],
      "metadata": {
        "id": "Fi4LqKsGcARy"
      }
    },
    {
      "cell_type": "code",
      "source": [
        "x = 0\n",
        "\n",
        "if x > 0:\n",
        "    print(\"x is positive\")\n",
        "elif x < 0:\n",
        "    print(\"x is negative\")\n",
        "else:\n",
        "    print(\"x is zero\")\n"
      ],
      "metadata": {
        "colab": {
          "base_uri": "https://localhost:8080/"
        },
        "id": "V4RnXvpMcM1s",
        "outputId": "c060b2ef-6144-42ec-9fae-da0c86cff55e"
      },
      "execution_count": null,
      "outputs": [
        {
          "output_type": "stream",
          "name": "stdout",
          "text": [
            "x is zero\n"
          ]
        }
      ]
    },
    {
      "cell_type": "markdown",
      "source": [
        "**Nested if-else Statements:**\n",
        "\n",
        "The if-else statement can be nested, allowing for more complex decision-making structures."
      ],
      "metadata": {
        "id": "s-wAofdfcbll"
      }
    },
    {
      "cell_type": "code",
      "source": [
        "num = 4\n",
        "if num > 0:\n",
        "    if num < 10:\n",
        "    \tprint(\"The number is positive and less than 10.\")\n",
        "else:\n",
        "    print(\"The number is less than or equal to 0\")\n"
      ],
      "metadata": {
        "colab": {
          "base_uri": "https://localhost:8080/"
        },
        "id": "52lRFKF6cdbP",
        "outputId": "9eb252d7-02cb-4072-84ff-e5259d3ab4f6"
      },
      "execution_count": null,
      "outputs": [
        {
          "output_type": "stream",
          "name": "stdout",
          "text": [
            "The number is positive and less than 10.\n"
          ]
        }
      ]
    },
    {
      "cell_type": "markdown",
      "source": [
        "**LOOPS**\n",
        "\n",
        "If we want to execute a group of statements multiple times then we can use loops\n",
        "\n",
        "1) For Loop\n",
        "\n",
        "2) While loop\n"
      ],
      "metadata": {
        "id": "zmm7flK4coKp"
      }
    },
    {
      "cell_type": "markdown",
      "source": [
        "**For Loop:**\n",
        "\n",
        "The for loop is a fundamental control flow statement in Python that is used for iterating over a sequence (such as a list, tuple, string, or range) or other iterable objects.\n"
      ],
      "metadata": {
        "id": "hjcVIwDLdR5V"
      }
    },
    {
      "cell_type": "markdown",
      "source": [
        "**For loop with Lists**"
      ],
      "metadata": {
        "id": "fOFC2iNbeDY4"
      }
    },
    {
      "cell_type": "code",
      "source": [
        "l = [\"Data\", \"Science\", \"Python\"]\n",
        "for i in l:\n",
        "\tprint(i)"
      ],
      "metadata": {
        "colab": {
          "base_uri": "https://localhost:8080/"
        },
        "id": "XfCFnBtSeFRS",
        "outputId": "d33f5f9d-91ef-4661-b06f-0472ca65be7c"
      },
      "execution_count": null,
      "outputs": [
        {
          "output_type": "stream",
          "name": "stdout",
          "text": [
            "Data\n",
            "Science\n",
            "Python\n"
          ]
        }
      ]
    },
    {
      "cell_type": "markdown",
      "source": [
        "**For loop with Dictionary**"
      ],
      "metadata": {
        "id": "kc4410GLeIZ_"
      }
    },
    {
      "cell_type": "code",
      "source": [
        "print(\"Dictionary Iteration\")\n",
        "d = dict()\n",
        "\n",
        "d['key1'] = \"val1\"\n",
        "d['key2'] = 345\n",
        "for i in d:\n",
        "\tprint(i, d[i])"
      ],
      "metadata": {
        "colab": {
          "base_uri": "https://localhost:8080/"
        },
        "id": "PlcpsXbueLy8",
        "outputId": "fe956dbc-021e-4c43-dd69-e1bc405d918d"
      },
      "execution_count": null,
      "outputs": [
        {
          "output_type": "stream",
          "name": "stdout",
          "text": [
            "Dictionary Iteration\n",
            "key1 val1\n",
            "key2 345\n"
          ]
        }
      ]
    },
    {
      "cell_type": "markdown",
      "source": [
        "**For loop with strings**"
      ],
      "metadata": {
        "id": "cGkkELiwePjk"
      }
    },
    {
      "cell_type": "code",
      "source": [
        "word = \"Python\"\n",
        "\n",
        "for letter in word:\n",
        "    print(letter)"
      ],
      "metadata": {
        "colab": {
          "base_uri": "https://localhost:8080/"
        },
        "id": "jOsaFMvXeXeh",
        "outputId": "c80c4c7e-f2e8-48b9-9b4d-86bd781c484b"
      },
      "execution_count": null,
      "outputs": [
        {
          "output_type": "stream",
          "name": "stdout",
          "text": [
            "P\n",
            "y\n",
            "t\n",
            "h\n",
            "o\n",
            "n\n"
          ]
        }
      ]
    },
    {
      "cell_type": "markdown",
      "source": [
        "**For loop with range**\n",
        "\n",
        "The range() function is often used with for loops to generate a sequence of numbers"
      ],
      "metadata": {
        "id": "P3nQY6bJedXM"
      }
    },
    {
      "cell_type": "code",
      "source": [
        "for i in range(5):\n",
        "    print(i,end=' ')"
      ],
      "metadata": {
        "colab": {
          "base_uri": "https://localhost:8080/"
        },
        "id": "5zAPJU81ee61",
        "outputId": "0eb3b8aa-f223-4212-c8bf-9a671e125639"
      },
      "execution_count": null,
      "outputs": [
        {
          "output_type": "stream",
          "name": "stdout",
          "text": [
            "0 1 2 3 4 "
          ]
        }
      ]
    },
    {
      "cell_type": "markdown",
      "source": [
        "\n",
        "**Nested for loops**\n",
        "\n",
        "for loops can be nested inside each other for more complex iterations"
      ],
      "metadata": {
        "id": "KfaPNfXcemaL"
      }
    },
    {
      "cell_type": "code",
      "source": [
        "for i in range(3):\n",
        "    for j in range(2):\n",
        "        print(f\"({i}, {j})\")"
      ],
      "metadata": {
        "colab": {
          "base_uri": "https://localhost:8080/"
        },
        "id": "vzh8HjbSerYx",
        "outputId": "0c15f72d-d194-4920-8192-c3f32448ba74"
      },
      "execution_count": null,
      "outputs": [
        {
          "output_type": "stream",
          "name": "stdout",
          "text": [
            "(0, 0)\n",
            "(0, 1)\n",
            "(1, 0)\n",
            "(1, 1)\n",
            "(2, 0)\n",
            "(2, 1)\n"
          ]
        }
      ]
    },
    {
      "cell_type": "markdown",
      "source": [
        "**Enumerate using For loop**\n",
        "\n",
        "The enumerate() function is handy for obtaining both the index and value during iteration"
      ],
      "metadata": {
        "id": "jJp55epRevkG"
      }
    },
    {
      "cell_type": "code",
      "source": [
        "list1 = [\"Data-Science\", \"Power BI\", \"Python\"]\n",
        "\n",
        "for index, subject in enumerate(list1):\n",
        "    print(f\"Index: {index}, Subj: {subject}\")"
      ],
      "metadata": {
        "colab": {
          "base_uri": "https://localhost:8080/"
        },
        "id": "xdcu_zRpe1C8",
        "outputId": "d314295d-2c6f-4529-c7b3-3e52cd26aeb6"
      },
      "execution_count": null,
      "outputs": [
        {
          "output_type": "stream",
          "name": "stdout",
          "text": [
            "Index: 0, Subj: Data-Science\n",
            "Index: 1, Subj: Power BI\n",
            "Index: 2, Subj: Python\n"
          ]
        }
      ]
    },
    {
      "cell_type": "markdown",
      "source": [
        "**While Loop**\n",
        "\n",
        "The while loop is a control flow statement in Python that repeatedly executes a block of code as long as a specified condition is true, and when the condition becomes false, the line immediately after the loop in the program is executed."
      ],
      "metadata": {
        "id": "qVm4mOFWfGQK"
      }
    },
    {
      "cell_type": "markdown",
      "source": [
        "**General use of While loop**"
      ],
      "metadata": {
        "id": "-_F_f4-dfURC"
      }
    },
    {
      "cell_type": "code",
      "source": [
        "counter= 2\n",
        "while counter <= 5:\n",
        "    print(counter, end=' ')\n",
        "    counter += 2"
      ],
      "metadata": {
        "colab": {
          "base_uri": "https://localhost:8080/"
        },
        "id": "XivrSZPCfVpj",
        "outputId": "c0a3a43d-ce5f-4a04-88ce-138ffe566204"
      },
      "execution_count": null,
      "outputs": [
        {
          "output_type": "stream",
          "name": "stdout",
          "text": [
            "2 4 "
          ]
        }
      ]
    },
    {
      "cell_type": "markdown",
      "source": [
        "**Infinite while Loop:**\n",
        "\n",
        "Be cautious when using while loops to avoid unintentional infinite loops. An infinite loop occurs when the condition is always true, leading to continuous execution."
      ],
      "metadata": {
        "id": "76XJjaqUfZHP"
      }
    },
    {
      "cell_type": "markdown",
      "source": [
        "**Nested While Loop**\n",
        "\n",
        "Similar to for loops, while loops can be nested to handle more complex scenarios"
      ],
      "metadata": {
        "id": "mjGGoKx_fhtl"
      }
    },
    {
      "cell_type": "code",
      "source": [
        "outer_counter = 1\n",
        "while outer_counter <= 3:\n",
        "    inner_counter = 1\n",
        "    while inner_counter <= 2:\n",
        "        print(f\"({outer_counter}, {inner_counter})\", end=' ')\n",
        "        inner_counter += 1\n",
        "    outer_counter += 1"
      ],
      "metadata": {
        "colab": {
          "base_uri": "https://localhost:8080/"
        },
        "id": "zW-_kapLfX2-",
        "outputId": "d99064a7-ef86-4211-d403-9544f21ab40e"
      },
      "execution_count": null,
      "outputs": [
        {
          "output_type": "stream",
          "name": "stdout",
          "text": [
            "(1, 1) (1, 2) (2, 1) (2, 2) (3, 1) (3, 2) "
          ]
        }
      ]
    },
    {
      "cell_type": "markdown",
      "source": [
        "**While Loop with continue statement**\n",
        "\n",
        "The continue statement allows you to skip the rest of the code inside the loop for the current iteration and move to the next iteration."
      ],
      "metadata": {
        "id": "lSsXTB0iftFa"
      }
    },
    {
      "cell_type": "code",
      "source": [
        "counter = 1\n",
        "while counter <= 5:\n",
        "    if counter == 3:\n",
        "        counter += 1\n",
        "        continue\n",
        "    print(counter, end=' ')\n",
        "    counter += 1"
      ],
      "metadata": {
        "colab": {
          "base_uri": "https://localhost:8080/"
        },
        "id": "nfb0dAHrfrsM",
        "outputId": "21c91f79-4186-48ca-ad11-e188eff5d666"
      },
      "execution_count": null,
      "outputs": [
        {
          "output_type": "stream",
          "name": "stdout",
          "text": [
            "1 2 4 5 "
          ]
        }
      ]
    },
    {
      "cell_type": "markdown",
      "source": [
        "This loop will skip printing the number 3 and continue to the next iteration."
      ],
      "metadata": {
        "id": "GsQAfKJdf72d"
      }
    },
    {
      "cell_type": "markdown",
      "source": [
        "**While Loop with break statement**\n",
        "\n",
        "The break statement is useful for exiting a while loop prematurely based on a certain condition."
      ],
      "metadata": {
        "id": "RhTZXd0Vf7pC"
      }
    },
    {
      "cell_type": "code",
      "source": [
        "counter = 1\n",
        "while counter <= 10:\n",
        "    print(counter,end=' ')\n",
        "    if counter == 5:\n",
        "        break\n",
        "    counter += 1"
      ],
      "metadata": {
        "colab": {
          "base_uri": "https://localhost:8080/"
        },
        "id": "plYt6T1jf3Ek",
        "outputId": "883e9684-a5f8-41d9-fbb7-869799c0ea14"
      },
      "execution_count": null,
      "outputs": [
        {
          "output_type": "stream",
          "name": "stdout",
          "text": [
            "1 2 3 4 5 "
          ]
        }
      ]
    },
    {
      "cell_type": "markdown",
      "source": [
        "This loop will stop when the counter variable is equal to 5."
      ],
      "metadata": {
        "id": "Q8OQkoBYgHDa"
      }
    }
  ]
}