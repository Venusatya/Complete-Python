{
  "nbformat": 4,
  "nbformat_minor": 0,
  "metadata": {
    "colab": {
      "provenance": []
    },
    "kernelspec": {
      "name": "python3",
      "display_name": "Python 3"
    },
    "language_info": {
      "name": "python"
    }
  },
  "cells": [
    {
      "cell_type": "code",
      "execution_count": 1,
      "metadata": {
        "id": "YMd0gWRpNfX3"
      },
      "outputs": [],
      "source": [
        "# importing sqlite3\n",
        "import sqlite3"
      ]
    },
    {
      "cell_type": "code",
      "source": [
        "#Connecting to sqlite3\n",
        "connection = sqlite3.connect('employees.db')\n",
        "connection\n"
      ],
      "metadata": {
        "colab": {
          "base_uri": "https://localhost:8080/"
        },
        "id": "IETyy25TNpMX",
        "outputId": "cfaf6253-c451-4ce8-88cd-04a2a4c1e517"
      },
      "execution_count": 16,
      "outputs": [
        {
          "output_type": "execute_result",
          "data": {
            "text/plain": [
              "<sqlite3.Connection at 0x7a7845825740>"
            ]
          },
          "metadata": {},
          "execution_count": 16
        }
      ]
    },
    {
      "cell_type": "code",
      "source": [
        "# Creating a Cursor\n",
        "cursor = connection.cursor()"
      ],
      "metadata": {
        "id": "D5ie60f-NrWC"
      },
      "execution_count": 3,
      "outputs": []
    },
    {
      "cell_type": "code",
      "source": [
        "# Creating a table\n",
        "cursor.execute('''\n",
        "CREATE TABLE IF NOT EXISTS Employees(\n",
        "  Id int PRIMARY KEY,\n",
        "  Age int,\n",
        "  Name Text NOT NULL,\n",
        "  Department Text NOT NULL\n",
        ")\n",
        "''')"
      ],
      "metadata": {
        "colab": {
          "base_uri": "https://localhost:8080/"
        },
        "id": "1wOw5DiQNw-o",
        "outputId": "9d07c207-eacd-46a3-9bf6-d49bdc3d4059"
      },
      "execution_count": 4,
      "outputs": [
        {
          "output_type": "execute_result",
          "data": {
            "text/plain": [
              "<sqlite3.Cursor at 0x7a784571e1c0>"
            ]
          },
          "metadata": {},
          "execution_count": 4
        }
      ]
    },
    {
      "cell_type": "code",
      "source": [
        "# Inserting values into the table\n",
        "cursor.execute('''\n",
        "INSERT INTO Employees(Id, Age, Name, Department)\n",
        "Values (1, 25, 'Sam', 'Data Science')\n",
        "''')\n",
        "\n",
        "cursor.execute('''\n",
        "INSERT INTO Employees(Id, Age, Name, Department)\n",
        "Values (2, 26, 'Tom', 'Python')\n",
        "''')"
      ],
      "metadata": {
        "colab": {
          "base_uri": "https://localhost:8080/"
        },
        "id": "dLnwbPGWNzYz",
        "outputId": "14a51f93-a246-4ecf-a69a-a220a5e19d2d"
      },
      "execution_count": 5,
      "outputs": [
        {
          "output_type": "execute_result",
          "data": {
            "text/plain": [
              "<sqlite3.Cursor at 0x7a784571e1c0>"
            ]
          },
          "metadata": {},
          "execution_count": 5
        }
      ]
    },
    {
      "cell_type": "code",
      "source": [
        "cursor.execute('''\n",
        "SELECT * FROM Employees\n",
        "''')"
      ],
      "metadata": {
        "colab": {
          "base_uri": "https://localhost:8080/"
        },
        "id": "NNDpEmzQOABj",
        "outputId": "f6ce7537-ac20-4730-ae23-6f53a4093082"
      },
      "execution_count": 6,
      "outputs": [
        {
          "output_type": "execute_result",
          "data": {
            "text/plain": [
              "<sqlite3.Cursor at 0x7a784571e1c0>"
            ]
          },
          "metadata": {},
          "execution_count": 6
        }
      ]
    },
    {
      "cell_type": "code",
      "source": [
        "# Fetching rows from Database\n",
        "rows = cursor.fetchall()\n",
        "for row in rows:\n",
        "  print(row)"
      ],
      "metadata": {
        "colab": {
          "base_uri": "https://localhost:8080/"
        },
        "id": "O4XzLCZDODAg",
        "outputId": "5a922729-0894-4c6d-d52a-bc256e691704"
      },
      "execution_count": 7,
      "outputs": [
        {
          "output_type": "stream",
          "name": "stdout",
          "text": [
            "(1, 25, 'Sam', 'Data Science')\n",
            "(2, 26, 'Tom', 'Python')\n"
          ]
        }
      ]
    },
    {
      "cell_type": "code",
      "source": [
        "# Updating the rows\n",
        "cursor.execute('''\n",
        "UPDATE Employees\n",
        "SET Age = 26\n",
        "WHERE Id = 2\n",
        "''')"
      ],
      "metadata": {
        "colab": {
          "base_uri": "https://localhost:8080/"
        },
        "id": "cpL7L7p6OFv5",
        "outputId": "4db961ac-c8c5-482f-da0d-33938b8f05d2"
      },
      "execution_count": 9,
      "outputs": [
        {
          "output_type": "execute_result",
          "data": {
            "text/plain": [
              "<sqlite3.Cursor at 0x7a784571e1c0>"
            ]
          },
          "metadata": {},
          "execution_count": 9
        }
      ]
    },
    {
      "cell_type": "code",
      "source": [
        "cursor.execute('''\n",
        "SELECT * FROM Employees\n",
        "''')"
      ],
      "metadata": {
        "colab": {
          "base_uri": "https://localhost:8080/"
        },
        "id": "Wvjc8e_QOLEz",
        "outputId": "d8db5d6c-6b82-42f1-e026-6c060c96a9c0"
      },
      "execution_count": 10,
      "outputs": [
        {
          "output_type": "execute_result",
          "data": {
            "text/plain": [
              "<sqlite3.Cursor at 0x7a784571e1c0>"
            ]
          },
          "metadata": {},
          "execution_count": 10
        }
      ]
    },
    {
      "cell_type": "code",
      "source": [
        "rows = cursor.fetchall()\n",
        "for row in rows:\n",
        "  print(row)"
      ],
      "metadata": {
        "colab": {
          "base_uri": "https://localhost:8080/"
        },
        "id": "LkIhLALxOcLa",
        "outputId": "c9de545a-6627-4dff-f5e5-12cc8d28f6ce"
      },
      "execution_count": 11,
      "outputs": [
        {
          "output_type": "stream",
          "name": "stdout",
          "text": [
            "(1, 25, 'Sam', 'Data Science')\n",
            "(2, 26, 'Tom', 'Python')\n"
          ]
        }
      ]
    },
    {
      "cell_type": "code",
      "source": [
        "# Deleting a row\n",
        "cursor.execute('''\n",
        "DELETE FROM Employees\n",
        "Where Id = 2\n",
        "''')"
      ],
      "metadata": {
        "colab": {
          "base_uri": "https://localhost:8080/"
        },
        "id": "8lL3gTi-OdTa",
        "outputId": "57028b33-feb0-45db-d141-de6ba3375595"
      },
      "execution_count": 12,
      "outputs": [
        {
          "output_type": "execute_result",
          "data": {
            "text/plain": [
              "<sqlite3.Cursor at 0x7a784571e1c0>"
            ]
          },
          "metadata": {},
          "execution_count": 12
        }
      ]
    },
    {
      "cell_type": "code",
      "source": [
        "cursor.execute('''\n",
        "SELECT * FROM Employees\n",
        "''')\n",
        "\n",
        "rows = cursor.fetchall()\n",
        "for row in rows:\n",
        "  print(row)"
      ],
      "metadata": {
        "colab": {
          "base_uri": "https://localhost:8080/"
        },
        "id": "nehaXJ_QOsz5",
        "outputId": "d018d276-7b97-4922-f7f9-7ae16b3f0ff8"
      },
      "execution_count": 13,
      "outputs": [
        {
          "output_type": "stream",
          "name": "stdout",
          "text": [
            "(1, 25, 'Sam', 'Data Science')\n"
          ]
        }
      ]
    },
    {
      "cell_type": "code",
      "source": [
        "# Commiting to the Database\n",
        "connection.commit()"
      ],
      "metadata": {
        "id": "4Y9F3MksOvD6"
      },
      "execution_count": 14,
      "outputs": []
    },
    {
      "cell_type": "code",
      "source": [
        "# Closing the Database\n",
        "connection.close()"
      ],
      "metadata": {
        "id": "ROu_HgpIO1m2"
      },
      "execution_count": 15,
      "outputs": []
    },
    {
      "cell_type": "code",
      "source": [],
      "metadata": {
        "id": "MV6ec3JoO6ft"
      },
      "execution_count": null,
      "outputs": []
    }
  ]
}